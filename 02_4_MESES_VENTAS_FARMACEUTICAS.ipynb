{
  "nbformat": 4,
  "nbformat_minor": 0,
  "metadata": {
    "colab": {
      "provenance": [],
      "collapsed_sections": [],
      "include_colab_link": true
    },
    "kernelspec": {
      "name": "python3",
      "display_name": "Python 3"
    },
    "language_info": {
      "name": "python"
    }
  },
  "cells": [
    {
      "cell_type": "markdown",
      "metadata": {
        "id": "view-in-github",
        "colab_type": "text"
      },
      "source": [
        "<a href=\"https://colab.research.google.com/github/lilianaochoae/VENTAS_FARMACEUTICAS_ATC/blob/main/02_4_MESES_VENTAS_FARMACEUTICAS.ipynb\" target=\"_parent\"><img src=\"https://colab.research.google.com/assets/colab-badge.svg\" alt=\"Open In Colab\"/></a>"
      ]
    },
    {
      "cell_type": "markdown",
      "source": [
        "IMPORTACIÓN DE LIBRERÍA"
      ],
      "metadata": {
        "id": "Gxmvz0HGW9D4"
      }
    },
    {
      "cell_type": "code",
      "execution_count": 1,
      "metadata": {
        "id": "WcS-RhBrWtkr"
      },
      "outputs": [],
      "source": [
        "import numpy as np\n",
        "import pandas as pd\n",
        "import seaborn as sns\n",
        "import matplotlib.pyplot as plt\n",
        "%matplotlib inline"
      ]
    },
    {
      "cell_type": "markdown",
      "source": [
        "CARGADE BASE DE DATOS"
      ],
      "metadata": {
        "id": "Q7a8hVVkXIqv"
      }
    },
    {
      "cell_type": "code",
      "source": [
        "columns_dtypes = {'M01AB' : 'category',\n",
        "                  'M01AE' : 'category',\n",
        "                  'N02BA' : 'category',\n",
        "                  'N02BE' : 'category',\n",
        "                  'N05B' : 'category',\n",
        "                  'N05C' : 'category',\n",
        "                  'R03' : 'category',\n",
        "                  'R06' : 'category'}"
      ],
      "metadata": {
        "id": "2Z6z2FKSXDGD"
      },
      "execution_count": 2,
      "outputs": []
    },
    {
      "cell_type": "code",
      "source": [
        "Bd = pd.read_csv('https://docs.google.com/spreadsheets/d/e/2PACX-1vSnx6AOwRLjFWFDLAHBBS7K9LZqwAbgYfuxSMJTsCWcVocCFGNG7YZKcYowMkyYDbqx_NlBY_SUHVy9/pub?output=csv')"
      ],
      "metadata": {
        "id": "YSxv7IwPXPTv"
      },
      "execution_count": 3,
      "outputs": []
    },
    {
      "cell_type": "code",
      "source": [
        "Bd"
      ],
      "metadata": {
        "colab": {
          "base_uri": "https://localhost:8080/",
          "height": 424
        },
        "id": "VRV25v76YFt0",
        "outputId": "0ccd7bdd-d4df-4878-da4b-6a4f86f9a3b1"
      },
      "execution_count": 4,
      "outputs": [
        {
          "output_type": "execute_result",
          "data": {
            "text/plain": [
              "           M01AB         M01AE         N02BA         N02BE          N05B  \\\n",
              "0   1.276900e+16  9.909000e+15  1.521000e+16  8.780300e+15  3.540000e+02   \n",
              "1   1.333200e+02  1.260500e+15  1.770000e+16  1.001900e+16  3.470000e+02   \n",
              "2   1.374400e+16  9.295000e+15  1.476550e+05  7.792750e+05  2.320000e+02   \n",
              "3   1.131000e+16  8.947500e+15  1.309000e+16  6.985000e+02  2.090000e+02   \n",
              "4   1.017900e+16  1.199330e+16  1.321000e+02  6.287800e+15  2.700000e+02   \n",
              "..           ...           ...           ...           ...           ...   \n",
              "65  1.515400e+15  1.016270e+16  1.032000e+02  6.100000e+15  1.930000e+02   \n",
              "66  1.810000e+02  1.035410e+16  9.280000e+01  6.498000e+02  2.506000e+16   \n",
              "67  1.819100e+16  8.826900e+15  8.420000e+15  5.181000e+15  2.370000e+02   \n",
              "68  1.610700e+16  1.114370e+16  9.350000e+15  9.844800e+15  2.278000e+16   \n",
              "69  4.437000e+16  3.730000e+01  2.065000e+01  2.951500e+16  8.600000e+01   \n",
              "\n",
              "    N05C    R03           R06  dia  mes   año  \n",
              "0   50.0  112.0  4.820000e+01   31    1  2014  \n",
              "1   31.0  122.0  3.620000e+01   28    2  2014  \n",
              "2   20.0  112.0  8.540000e+01   31    3  2014  \n",
              "3   18.0   97.0  7.370000e+01   30    4  2014  \n",
              "4   23.0  107.0  1.237000e+16   31    5  2014  \n",
              "..   ...    ...           ...  ...  ...   ...  \n",
              "65  25.0  142.0  1.560400e+02   30    6  2019  \n",
              "66  20.0  115.0  1.052000e+02   31    7  2019  \n",
              "67  26.0  145.0  9.730000e+01   31    8  2019  \n",
              "68  16.0  161.0  1.091000e+02   30    9  2019  \n",
              "69   7.0   37.0  1.113000e+16   31   10  2019  \n",
              "\n",
              "[70 rows x 11 columns]"
            ],
            "text/html": [
              "\n",
              "  <div id=\"df-348d8e39-b0d1-40e8-866d-39c91820a454\">\n",
              "    <div class=\"colab-df-container\">\n",
              "      <div>\n",
              "<style scoped>\n",
              "    .dataframe tbody tr th:only-of-type {\n",
              "        vertical-align: middle;\n",
              "    }\n",
              "\n",
              "    .dataframe tbody tr th {\n",
              "        vertical-align: top;\n",
              "    }\n",
              "\n",
              "    .dataframe thead th {\n",
              "        text-align: right;\n",
              "    }\n",
              "</style>\n",
              "<table border=\"1\" class=\"dataframe\">\n",
              "  <thead>\n",
              "    <tr style=\"text-align: right;\">\n",
              "      <th></th>\n",
              "      <th>M01AB</th>\n",
              "      <th>M01AE</th>\n",
              "      <th>N02BA</th>\n",
              "      <th>N02BE</th>\n",
              "      <th>N05B</th>\n",
              "      <th>N05C</th>\n",
              "      <th>R03</th>\n",
              "      <th>R06</th>\n",
              "      <th>dia</th>\n",
              "      <th>mes</th>\n",
              "      <th>año</th>\n",
              "    </tr>\n",
              "  </thead>\n",
              "  <tbody>\n",
              "    <tr>\n",
              "      <th>0</th>\n",
              "      <td>1.276900e+16</td>\n",
              "      <td>9.909000e+15</td>\n",
              "      <td>1.521000e+16</td>\n",
              "      <td>8.780300e+15</td>\n",
              "      <td>3.540000e+02</td>\n",
              "      <td>50.0</td>\n",
              "      <td>112.0</td>\n",
              "      <td>4.820000e+01</td>\n",
              "      <td>31</td>\n",
              "      <td>1</td>\n",
              "      <td>2014</td>\n",
              "    </tr>\n",
              "    <tr>\n",
              "      <th>1</th>\n",
              "      <td>1.333200e+02</td>\n",
              "      <td>1.260500e+15</td>\n",
              "      <td>1.770000e+16</td>\n",
              "      <td>1.001900e+16</td>\n",
              "      <td>3.470000e+02</td>\n",
              "      <td>31.0</td>\n",
              "      <td>122.0</td>\n",
              "      <td>3.620000e+01</td>\n",
              "      <td>28</td>\n",
              "      <td>2</td>\n",
              "      <td>2014</td>\n",
              "    </tr>\n",
              "    <tr>\n",
              "      <th>2</th>\n",
              "      <td>1.374400e+16</td>\n",
              "      <td>9.295000e+15</td>\n",
              "      <td>1.476550e+05</td>\n",
              "      <td>7.792750e+05</td>\n",
              "      <td>2.320000e+02</td>\n",
              "      <td>20.0</td>\n",
              "      <td>112.0</td>\n",
              "      <td>8.540000e+01</td>\n",
              "      <td>31</td>\n",
              "      <td>3</td>\n",
              "      <td>2014</td>\n",
              "    </tr>\n",
              "    <tr>\n",
              "      <th>3</th>\n",
              "      <td>1.131000e+16</td>\n",
              "      <td>8.947500e+15</td>\n",
              "      <td>1.309000e+16</td>\n",
              "      <td>6.985000e+02</td>\n",
              "      <td>2.090000e+02</td>\n",
              "      <td>18.0</td>\n",
              "      <td>97.0</td>\n",
              "      <td>7.370000e+01</td>\n",
              "      <td>30</td>\n",
              "      <td>4</td>\n",
              "      <td>2014</td>\n",
              "    </tr>\n",
              "    <tr>\n",
              "      <th>4</th>\n",
              "      <td>1.017900e+16</td>\n",
              "      <td>1.199330e+16</td>\n",
              "      <td>1.321000e+02</td>\n",
              "      <td>6.287800e+15</td>\n",
              "      <td>2.700000e+02</td>\n",
              "      <td>23.0</td>\n",
              "      <td>107.0</td>\n",
              "      <td>1.237000e+16</td>\n",
              "      <td>31</td>\n",
              "      <td>5</td>\n",
              "      <td>2014</td>\n",
              "    </tr>\n",
              "    <tr>\n",
              "      <th>...</th>\n",
              "      <td>...</td>\n",
              "      <td>...</td>\n",
              "      <td>...</td>\n",
              "      <td>...</td>\n",
              "      <td>...</td>\n",
              "      <td>...</td>\n",
              "      <td>...</td>\n",
              "      <td>...</td>\n",
              "      <td>...</td>\n",
              "      <td>...</td>\n",
              "      <td>...</td>\n",
              "    </tr>\n",
              "    <tr>\n",
              "      <th>65</th>\n",
              "      <td>1.515400e+15</td>\n",
              "      <td>1.016270e+16</td>\n",
              "      <td>1.032000e+02</td>\n",
              "      <td>6.100000e+15</td>\n",
              "      <td>1.930000e+02</td>\n",
              "      <td>25.0</td>\n",
              "      <td>142.0</td>\n",
              "      <td>1.560400e+02</td>\n",
              "      <td>30</td>\n",
              "      <td>6</td>\n",
              "      <td>2019</td>\n",
              "    </tr>\n",
              "    <tr>\n",
              "      <th>66</th>\n",
              "      <td>1.810000e+02</td>\n",
              "      <td>1.035410e+16</td>\n",
              "      <td>9.280000e+01</td>\n",
              "      <td>6.498000e+02</td>\n",
              "      <td>2.506000e+16</td>\n",
              "      <td>20.0</td>\n",
              "      <td>115.0</td>\n",
              "      <td>1.052000e+02</td>\n",
              "      <td>31</td>\n",
              "      <td>7</td>\n",
              "      <td>2019</td>\n",
              "    </tr>\n",
              "    <tr>\n",
              "      <th>67</th>\n",
              "      <td>1.819100e+16</td>\n",
              "      <td>8.826900e+15</td>\n",
              "      <td>8.420000e+15</td>\n",
              "      <td>5.181000e+15</td>\n",
              "      <td>2.370000e+02</td>\n",
              "      <td>26.0</td>\n",
              "      <td>145.0</td>\n",
              "      <td>9.730000e+01</td>\n",
              "      <td>31</td>\n",
              "      <td>8</td>\n",
              "      <td>2019</td>\n",
              "    </tr>\n",
              "    <tr>\n",
              "      <th>68</th>\n",
              "      <td>1.610700e+16</td>\n",
              "      <td>1.114370e+16</td>\n",
              "      <td>9.350000e+15</td>\n",
              "      <td>9.844800e+15</td>\n",
              "      <td>2.278000e+16</td>\n",
              "      <td>16.0</td>\n",
              "      <td>161.0</td>\n",
              "      <td>1.091000e+02</td>\n",
              "      <td>30</td>\n",
              "      <td>9</td>\n",
              "      <td>2019</td>\n",
              "    </tr>\n",
              "    <tr>\n",
              "      <th>69</th>\n",
              "      <td>4.437000e+16</td>\n",
              "      <td>3.730000e+01</td>\n",
              "      <td>2.065000e+01</td>\n",
              "      <td>2.951500e+16</td>\n",
              "      <td>8.600000e+01</td>\n",
              "      <td>7.0</td>\n",
              "      <td>37.0</td>\n",
              "      <td>1.113000e+16</td>\n",
              "      <td>31</td>\n",
              "      <td>10</td>\n",
              "      <td>2019</td>\n",
              "    </tr>\n",
              "  </tbody>\n",
              "</table>\n",
              "<p>70 rows × 11 columns</p>\n",
              "</div>\n",
              "      <button class=\"colab-df-convert\" onclick=\"convertToInteractive('df-348d8e39-b0d1-40e8-866d-39c91820a454')\"\n",
              "              title=\"Convert this dataframe to an interactive table.\"\n",
              "              style=\"display:none;\">\n",
              "        \n",
              "  <svg xmlns=\"http://www.w3.org/2000/svg\" height=\"24px\"viewBox=\"0 0 24 24\"\n",
              "       width=\"24px\">\n",
              "    <path d=\"M0 0h24v24H0V0z\" fill=\"none\"/>\n",
              "    <path d=\"M18.56 5.44l.94 2.06.94-2.06 2.06-.94-2.06-.94-.94-2.06-.94 2.06-2.06.94zm-11 1L8.5 8.5l.94-2.06 2.06-.94-2.06-.94L8.5 2.5l-.94 2.06-2.06.94zm10 10l.94 2.06.94-2.06 2.06-.94-2.06-.94-.94-2.06-.94 2.06-2.06.94z\"/><path d=\"M17.41 7.96l-1.37-1.37c-.4-.4-.92-.59-1.43-.59-.52 0-1.04.2-1.43.59L10.3 9.45l-7.72 7.72c-.78.78-.78 2.05 0 2.83L4 21.41c.39.39.9.59 1.41.59.51 0 1.02-.2 1.41-.59l7.78-7.78 2.81-2.81c.8-.78.8-2.07 0-2.86zM5.41 20L4 18.59l7.72-7.72 1.47 1.35L5.41 20z\"/>\n",
              "  </svg>\n",
              "      </button>\n",
              "      \n",
              "  <style>\n",
              "    .colab-df-container {\n",
              "      display:flex;\n",
              "      flex-wrap:wrap;\n",
              "      gap: 12px;\n",
              "    }\n",
              "\n",
              "    .colab-df-convert {\n",
              "      background-color: #E8F0FE;\n",
              "      border: none;\n",
              "      border-radius: 50%;\n",
              "      cursor: pointer;\n",
              "      display: none;\n",
              "      fill: #1967D2;\n",
              "      height: 32px;\n",
              "      padding: 0 0 0 0;\n",
              "      width: 32px;\n",
              "    }\n",
              "\n",
              "    .colab-df-convert:hover {\n",
              "      background-color: #E2EBFA;\n",
              "      box-shadow: 0px 1px 2px rgba(60, 64, 67, 0.3), 0px 1px 3px 1px rgba(60, 64, 67, 0.15);\n",
              "      fill: #174EA6;\n",
              "    }\n",
              "\n",
              "    [theme=dark] .colab-df-convert {\n",
              "      background-color: #3B4455;\n",
              "      fill: #D2E3FC;\n",
              "    }\n",
              "\n",
              "    [theme=dark] .colab-df-convert:hover {\n",
              "      background-color: #434B5C;\n",
              "      box-shadow: 0px 1px 3px 1px rgba(0, 0, 0, 0.15);\n",
              "      filter: drop-shadow(0px 1px 2px rgba(0, 0, 0, 0.3));\n",
              "      fill: #FFFFFF;\n",
              "    }\n",
              "  </style>\n",
              "\n",
              "      <script>\n",
              "        const buttonEl =\n",
              "          document.querySelector('#df-348d8e39-b0d1-40e8-866d-39c91820a454 button.colab-df-convert');\n",
              "        buttonEl.style.display =\n",
              "          google.colab.kernel.accessAllowed ? 'block' : 'none';\n",
              "\n",
              "        async function convertToInteractive(key) {\n",
              "          const element = document.querySelector('#df-348d8e39-b0d1-40e8-866d-39c91820a454');\n",
              "          const dataTable =\n",
              "            await google.colab.kernel.invokeFunction('convertToInteractive',\n",
              "                                                     [key], {});\n",
              "          if (!dataTable) return;\n",
              "\n",
              "          const docLinkHtml = 'Like what you see? Visit the ' +\n",
              "            '<a target=\"_blank\" href=https://colab.research.google.com/notebooks/data_table.ipynb>data table notebook</a>'\n",
              "            + ' to learn more about interactive tables.';\n",
              "          element.innerHTML = '';\n",
              "          dataTable['output_type'] = 'display_data';\n",
              "          await google.colab.output.renderOutput(dataTable, element);\n",
              "          const docLink = document.createElement('div');\n",
              "          docLink.innerHTML = docLinkHtml;\n",
              "          element.appendChild(docLink);\n",
              "        }\n",
              "      </script>\n",
              "    </div>\n",
              "  </div>\n",
              "  "
            ]
          },
          "metadata": {},
          "execution_count": 4
        }
      ]
    },
    {
      "cell_type": "code",
      "source": [
        "print (Bd.shape)"
      ],
      "metadata": {
        "colab": {
          "base_uri": "https://localhost:8080/"
        },
        "id": "Z0mIuZBLZzKn",
        "outputId": "4898aa56-c000-4b46-9cbc-e3403c3be3e1"
      },
      "execution_count": 5,
      "outputs": [
        {
          "output_type": "stream",
          "name": "stdout",
          "text": [
            "(70, 11)\n"
          ]
        }
      ]
    },
    {
      "cell_type": "markdown",
      "source": [
        "PORCENTAJE DE VALORES FALTANTES EN COLUMNAS"
      ],
      "metadata": {
        "id": "hM1MvRFaXpmn"
      }
    },
    {
      "cell_type": "code",
      "source": [
        "k = Bd.isna().sum()\n",
        "((round(k[k!=0]/Bd.shape[0], 2) * 100).astype(int)).astype(str).str.cat(['' for i in range(len(k[k!=0]))], sep='%')"
      ],
      "metadata": {
        "colab": {
          "base_uri": "https://localhost:8080/"
        },
        "id": "mCDHlGyqXiUm",
        "outputId": "807b1bb5-7a62-4e3f-c18e-3799b9c92619"
      },
      "execution_count": 6,
      "outputs": [
        {
          "output_type": "execute_result",
          "data": {
            "text/plain": [
              "Series([], dtype: object)"
            ]
          },
          "metadata": {},
          "execution_count": 6
        }
      ]
    },
    {
      "cell_type": "code",
      "source": [
        "base = Bd"
      ],
      "metadata": {
        "id": "GyPYHErKX8LH"
      },
      "execution_count": 7,
      "outputs": []
    },
    {
      "cell_type": "markdown",
      "source": [
        "LIMPIEZA DE LOS DATOS"
      ],
      "metadata": {
        "id": "ho-UJU0EX_1G"
      }
    },
    {
      "cell_type": "code",
      "source": [
        "#HotEncoding en la variable dia\n",
        "dummy_dia = pd.get_dummies(Bd[\"dia\"], prefix = \"dia\")\n",
        "dummy_dia.head()\n",
        "\n",
        "#Agregar el HotEncoding de DIA a la BD\n",
        "Bd = Bd.drop([\"dia\"], axis = 1)\n",
        "Bd = pd.concat([Bd,dummy_dia], axis = 1)\n",
        "Bd.head()"
      ],
      "metadata": {
        "colab": {
          "base_uri": "https://localhost:8080/",
          "height": 206
        },
        "id": "6n7xc0SGYJ4-",
        "outputId": "f3722786-997c-41d5-b45d-b3276e4441d1"
      },
      "execution_count": 8,
      "outputs": [
        {
          "output_type": "execute_result",
          "data": {
            "text/plain": [
              "          M01AB         M01AE         N02BA         N02BE   N05B  N05C    R03  \\\n",
              "0  1.276900e+16  9.909000e+15  1.521000e+16  8.780300e+15  354.0  50.0  112.0   \n",
              "1  1.333200e+02  1.260500e+15  1.770000e+16  1.001900e+16  347.0  31.0  122.0   \n",
              "2  1.374400e+16  9.295000e+15  1.476550e+05  7.792750e+05  232.0  20.0  112.0   \n",
              "3  1.131000e+16  8.947500e+15  1.309000e+16  6.985000e+02  209.0  18.0   97.0   \n",
              "4  1.017900e+16  1.199330e+16  1.321000e+02  6.287800e+15  270.0  23.0  107.0   \n",
              "\n",
              "            R06  mes   año  dia_28  dia_29  dia_30  dia_31  \n",
              "0  4.820000e+01    1  2014       0       0       0       1  \n",
              "1  3.620000e+01    2  2014       1       0       0       0  \n",
              "2  8.540000e+01    3  2014       0       0       0       1  \n",
              "3  7.370000e+01    4  2014       0       0       1       0  \n",
              "4  1.237000e+16    5  2014       0       0       0       1  "
            ],
            "text/html": [
              "\n",
              "  <div id=\"df-aadf6b0d-bdd2-4edb-add9-d2d4ff31122d\">\n",
              "    <div class=\"colab-df-container\">\n",
              "      <div>\n",
              "<style scoped>\n",
              "    .dataframe tbody tr th:only-of-type {\n",
              "        vertical-align: middle;\n",
              "    }\n",
              "\n",
              "    .dataframe tbody tr th {\n",
              "        vertical-align: top;\n",
              "    }\n",
              "\n",
              "    .dataframe thead th {\n",
              "        text-align: right;\n",
              "    }\n",
              "</style>\n",
              "<table border=\"1\" class=\"dataframe\">\n",
              "  <thead>\n",
              "    <tr style=\"text-align: right;\">\n",
              "      <th></th>\n",
              "      <th>M01AB</th>\n",
              "      <th>M01AE</th>\n",
              "      <th>N02BA</th>\n",
              "      <th>N02BE</th>\n",
              "      <th>N05B</th>\n",
              "      <th>N05C</th>\n",
              "      <th>R03</th>\n",
              "      <th>R06</th>\n",
              "      <th>mes</th>\n",
              "      <th>año</th>\n",
              "      <th>dia_28</th>\n",
              "      <th>dia_29</th>\n",
              "      <th>dia_30</th>\n",
              "      <th>dia_31</th>\n",
              "    </tr>\n",
              "  </thead>\n",
              "  <tbody>\n",
              "    <tr>\n",
              "      <th>0</th>\n",
              "      <td>1.276900e+16</td>\n",
              "      <td>9.909000e+15</td>\n",
              "      <td>1.521000e+16</td>\n",
              "      <td>8.780300e+15</td>\n",
              "      <td>354.0</td>\n",
              "      <td>50.0</td>\n",
              "      <td>112.0</td>\n",
              "      <td>4.820000e+01</td>\n",
              "      <td>1</td>\n",
              "      <td>2014</td>\n",
              "      <td>0</td>\n",
              "      <td>0</td>\n",
              "      <td>0</td>\n",
              "      <td>1</td>\n",
              "    </tr>\n",
              "    <tr>\n",
              "      <th>1</th>\n",
              "      <td>1.333200e+02</td>\n",
              "      <td>1.260500e+15</td>\n",
              "      <td>1.770000e+16</td>\n",
              "      <td>1.001900e+16</td>\n",
              "      <td>347.0</td>\n",
              "      <td>31.0</td>\n",
              "      <td>122.0</td>\n",
              "      <td>3.620000e+01</td>\n",
              "      <td>2</td>\n",
              "      <td>2014</td>\n",
              "      <td>1</td>\n",
              "      <td>0</td>\n",
              "      <td>0</td>\n",
              "      <td>0</td>\n",
              "    </tr>\n",
              "    <tr>\n",
              "      <th>2</th>\n",
              "      <td>1.374400e+16</td>\n",
              "      <td>9.295000e+15</td>\n",
              "      <td>1.476550e+05</td>\n",
              "      <td>7.792750e+05</td>\n",
              "      <td>232.0</td>\n",
              "      <td>20.0</td>\n",
              "      <td>112.0</td>\n",
              "      <td>8.540000e+01</td>\n",
              "      <td>3</td>\n",
              "      <td>2014</td>\n",
              "      <td>0</td>\n",
              "      <td>0</td>\n",
              "      <td>0</td>\n",
              "      <td>1</td>\n",
              "    </tr>\n",
              "    <tr>\n",
              "      <th>3</th>\n",
              "      <td>1.131000e+16</td>\n",
              "      <td>8.947500e+15</td>\n",
              "      <td>1.309000e+16</td>\n",
              "      <td>6.985000e+02</td>\n",
              "      <td>209.0</td>\n",
              "      <td>18.0</td>\n",
              "      <td>97.0</td>\n",
              "      <td>7.370000e+01</td>\n",
              "      <td>4</td>\n",
              "      <td>2014</td>\n",
              "      <td>0</td>\n",
              "      <td>0</td>\n",
              "      <td>1</td>\n",
              "      <td>0</td>\n",
              "    </tr>\n",
              "    <tr>\n",
              "      <th>4</th>\n",
              "      <td>1.017900e+16</td>\n",
              "      <td>1.199330e+16</td>\n",
              "      <td>1.321000e+02</td>\n",
              "      <td>6.287800e+15</td>\n",
              "      <td>270.0</td>\n",
              "      <td>23.0</td>\n",
              "      <td>107.0</td>\n",
              "      <td>1.237000e+16</td>\n",
              "      <td>5</td>\n",
              "      <td>2014</td>\n",
              "      <td>0</td>\n",
              "      <td>0</td>\n",
              "      <td>0</td>\n",
              "      <td>1</td>\n",
              "    </tr>\n",
              "  </tbody>\n",
              "</table>\n",
              "</div>\n",
              "      <button class=\"colab-df-convert\" onclick=\"convertToInteractive('df-aadf6b0d-bdd2-4edb-add9-d2d4ff31122d')\"\n",
              "              title=\"Convert this dataframe to an interactive table.\"\n",
              "              style=\"display:none;\">\n",
              "        \n",
              "  <svg xmlns=\"http://www.w3.org/2000/svg\" height=\"24px\"viewBox=\"0 0 24 24\"\n",
              "       width=\"24px\">\n",
              "    <path d=\"M0 0h24v24H0V0z\" fill=\"none\"/>\n",
              "    <path d=\"M18.56 5.44l.94 2.06.94-2.06 2.06-.94-2.06-.94-.94-2.06-.94 2.06-2.06.94zm-11 1L8.5 8.5l.94-2.06 2.06-.94-2.06-.94L8.5 2.5l-.94 2.06-2.06.94zm10 10l.94 2.06.94-2.06 2.06-.94-2.06-.94-.94-2.06-.94 2.06-2.06.94z\"/><path d=\"M17.41 7.96l-1.37-1.37c-.4-.4-.92-.59-1.43-.59-.52 0-1.04.2-1.43.59L10.3 9.45l-7.72 7.72c-.78.78-.78 2.05 0 2.83L4 21.41c.39.39.9.59 1.41.59.51 0 1.02-.2 1.41-.59l7.78-7.78 2.81-2.81c.8-.78.8-2.07 0-2.86zM5.41 20L4 18.59l7.72-7.72 1.47 1.35L5.41 20z\"/>\n",
              "  </svg>\n",
              "      </button>\n",
              "      \n",
              "  <style>\n",
              "    .colab-df-container {\n",
              "      display:flex;\n",
              "      flex-wrap:wrap;\n",
              "      gap: 12px;\n",
              "    }\n",
              "\n",
              "    .colab-df-convert {\n",
              "      background-color: #E8F0FE;\n",
              "      border: none;\n",
              "      border-radius: 50%;\n",
              "      cursor: pointer;\n",
              "      display: none;\n",
              "      fill: #1967D2;\n",
              "      height: 32px;\n",
              "      padding: 0 0 0 0;\n",
              "      width: 32px;\n",
              "    }\n",
              "\n",
              "    .colab-df-convert:hover {\n",
              "      background-color: #E2EBFA;\n",
              "      box-shadow: 0px 1px 2px rgba(60, 64, 67, 0.3), 0px 1px 3px 1px rgba(60, 64, 67, 0.15);\n",
              "      fill: #174EA6;\n",
              "    }\n",
              "\n",
              "    [theme=dark] .colab-df-convert {\n",
              "      background-color: #3B4455;\n",
              "      fill: #D2E3FC;\n",
              "    }\n",
              "\n",
              "    [theme=dark] .colab-df-convert:hover {\n",
              "      background-color: #434B5C;\n",
              "      box-shadow: 0px 1px 3px 1px rgba(0, 0, 0, 0.15);\n",
              "      filter: drop-shadow(0px 1px 2px rgba(0, 0, 0, 0.3));\n",
              "      fill: #FFFFFF;\n",
              "    }\n",
              "  </style>\n",
              "\n",
              "      <script>\n",
              "        const buttonEl =\n",
              "          document.querySelector('#df-aadf6b0d-bdd2-4edb-add9-d2d4ff31122d button.colab-df-convert');\n",
              "        buttonEl.style.display =\n",
              "          google.colab.kernel.accessAllowed ? 'block' : 'none';\n",
              "\n",
              "        async function convertToInteractive(key) {\n",
              "          const element = document.querySelector('#df-aadf6b0d-bdd2-4edb-add9-d2d4ff31122d');\n",
              "          const dataTable =\n",
              "            await google.colab.kernel.invokeFunction('convertToInteractive',\n",
              "                                                     [key], {});\n",
              "          if (!dataTable) return;\n",
              "\n",
              "          const docLinkHtml = 'Like what you see? Visit the ' +\n",
              "            '<a target=\"_blank\" href=https://colab.research.google.com/notebooks/data_table.ipynb>data table notebook</a>'\n",
              "            + ' to learn more about interactive tables.';\n",
              "          element.innerHTML = '';\n",
              "          dataTable['output_type'] = 'display_data';\n",
              "          await google.colab.output.renderOutput(dataTable, element);\n",
              "          const docLink = document.createElement('div');\n",
              "          docLink.innerHTML = docLinkHtml;\n",
              "          element.appendChild(docLink);\n",
              "        }\n",
              "      </script>\n",
              "    </div>\n",
              "  </div>\n",
              "  "
            ]
          },
          "metadata": {},
          "execution_count": 8
        }
      ]
    },
    {
      "cell_type": "code",
      "source": [
        "#HotEncoding en la variable mes\t\n",
        "dummy_mes\t= pd.get_dummies(Bd[\"mes\"], prefix = \"mes\")\n",
        "dummy_mes.head()\n",
        "\n",
        "#Agregar el HotEncoding de mes a la BD\n",
        "Bd = Bd.drop([\"mes\"], axis = 1)\n",
        "Bd = pd.concat([Bd,dummy_mes], axis = 1)\n",
        "Bd.head()"
      ],
      "metadata": {
        "colab": {
          "base_uri": "https://localhost:8080/",
          "height": 236
        },
        "id": "4FjABUhmYSLw",
        "outputId": "5cc4ec42-3d4a-47bc-f13f-0d3acc6779bd"
      },
      "execution_count": 9,
      "outputs": [
        {
          "output_type": "execute_result",
          "data": {
            "text/plain": [
              "          M01AB         M01AE         N02BA         N02BE   N05B  N05C    R03  \\\n",
              "0  1.276900e+16  9.909000e+15  1.521000e+16  8.780300e+15  354.0  50.0  112.0   \n",
              "1  1.333200e+02  1.260500e+15  1.770000e+16  1.001900e+16  347.0  31.0  122.0   \n",
              "2  1.374400e+16  9.295000e+15  1.476550e+05  7.792750e+05  232.0  20.0  112.0   \n",
              "3  1.131000e+16  8.947500e+15  1.309000e+16  6.985000e+02  209.0  18.0   97.0   \n",
              "4  1.017900e+16  1.199330e+16  1.321000e+02  6.287800e+15  270.0  23.0  107.0   \n",
              "\n",
              "            R06   año  dia_28  ...  mes_3  mes_4  mes_5  mes_6  mes_7  mes_8  \\\n",
              "0  4.820000e+01  2014       0  ...      0      0      0      0      0      0   \n",
              "1  3.620000e+01  2014       1  ...      0      0      0      0      0      0   \n",
              "2  8.540000e+01  2014       0  ...      1      0      0      0      0      0   \n",
              "3  7.370000e+01  2014       0  ...      0      1      0      0      0      0   \n",
              "4  1.237000e+16  2014       0  ...      0      0      1      0      0      0   \n",
              "\n",
              "   mes_9  mes_10  mes_11  mes_12  \n",
              "0      0       0       0       0  \n",
              "1      0       0       0       0  \n",
              "2      0       0       0       0  \n",
              "3      0       0       0       0  \n",
              "4      0       0       0       0  \n",
              "\n",
              "[5 rows x 25 columns]"
            ],
            "text/html": [
              "\n",
              "  <div id=\"df-b1a3f12f-7900-43aa-a255-f5f77db80b10\">\n",
              "    <div class=\"colab-df-container\">\n",
              "      <div>\n",
              "<style scoped>\n",
              "    .dataframe tbody tr th:only-of-type {\n",
              "        vertical-align: middle;\n",
              "    }\n",
              "\n",
              "    .dataframe tbody tr th {\n",
              "        vertical-align: top;\n",
              "    }\n",
              "\n",
              "    .dataframe thead th {\n",
              "        text-align: right;\n",
              "    }\n",
              "</style>\n",
              "<table border=\"1\" class=\"dataframe\">\n",
              "  <thead>\n",
              "    <tr style=\"text-align: right;\">\n",
              "      <th></th>\n",
              "      <th>M01AB</th>\n",
              "      <th>M01AE</th>\n",
              "      <th>N02BA</th>\n",
              "      <th>N02BE</th>\n",
              "      <th>N05B</th>\n",
              "      <th>N05C</th>\n",
              "      <th>R03</th>\n",
              "      <th>R06</th>\n",
              "      <th>año</th>\n",
              "      <th>dia_28</th>\n",
              "      <th>...</th>\n",
              "      <th>mes_3</th>\n",
              "      <th>mes_4</th>\n",
              "      <th>mes_5</th>\n",
              "      <th>mes_6</th>\n",
              "      <th>mes_7</th>\n",
              "      <th>mes_8</th>\n",
              "      <th>mes_9</th>\n",
              "      <th>mes_10</th>\n",
              "      <th>mes_11</th>\n",
              "      <th>mes_12</th>\n",
              "    </tr>\n",
              "  </thead>\n",
              "  <tbody>\n",
              "    <tr>\n",
              "      <th>0</th>\n",
              "      <td>1.276900e+16</td>\n",
              "      <td>9.909000e+15</td>\n",
              "      <td>1.521000e+16</td>\n",
              "      <td>8.780300e+15</td>\n",
              "      <td>354.0</td>\n",
              "      <td>50.0</td>\n",
              "      <td>112.0</td>\n",
              "      <td>4.820000e+01</td>\n",
              "      <td>2014</td>\n",
              "      <td>0</td>\n",
              "      <td>...</td>\n",
              "      <td>0</td>\n",
              "      <td>0</td>\n",
              "      <td>0</td>\n",
              "      <td>0</td>\n",
              "      <td>0</td>\n",
              "      <td>0</td>\n",
              "      <td>0</td>\n",
              "      <td>0</td>\n",
              "      <td>0</td>\n",
              "      <td>0</td>\n",
              "    </tr>\n",
              "    <tr>\n",
              "      <th>1</th>\n",
              "      <td>1.333200e+02</td>\n",
              "      <td>1.260500e+15</td>\n",
              "      <td>1.770000e+16</td>\n",
              "      <td>1.001900e+16</td>\n",
              "      <td>347.0</td>\n",
              "      <td>31.0</td>\n",
              "      <td>122.0</td>\n",
              "      <td>3.620000e+01</td>\n",
              "      <td>2014</td>\n",
              "      <td>1</td>\n",
              "      <td>...</td>\n",
              "      <td>0</td>\n",
              "      <td>0</td>\n",
              "      <td>0</td>\n",
              "      <td>0</td>\n",
              "      <td>0</td>\n",
              "      <td>0</td>\n",
              "      <td>0</td>\n",
              "      <td>0</td>\n",
              "      <td>0</td>\n",
              "      <td>0</td>\n",
              "    </tr>\n",
              "    <tr>\n",
              "      <th>2</th>\n",
              "      <td>1.374400e+16</td>\n",
              "      <td>9.295000e+15</td>\n",
              "      <td>1.476550e+05</td>\n",
              "      <td>7.792750e+05</td>\n",
              "      <td>232.0</td>\n",
              "      <td>20.0</td>\n",
              "      <td>112.0</td>\n",
              "      <td>8.540000e+01</td>\n",
              "      <td>2014</td>\n",
              "      <td>0</td>\n",
              "      <td>...</td>\n",
              "      <td>1</td>\n",
              "      <td>0</td>\n",
              "      <td>0</td>\n",
              "      <td>0</td>\n",
              "      <td>0</td>\n",
              "      <td>0</td>\n",
              "      <td>0</td>\n",
              "      <td>0</td>\n",
              "      <td>0</td>\n",
              "      <td>0</td>\n",
              "    </tr>\n",
              "    <tr>\n",
              "      <th>3</th>\n",
              "      <td>1.131000e+16</td>\n",
              "      <td>8.947500e+15</td>\n",
              "      <td>1.309000e+16</td>\n",
              "      <td>6.985000e+02</td>\n",
              "      <td>209.0</td>\n",
              "      <td>18.0</td>\n",
              "      <td>97.0</td>\n",
              "      <td>7.370000e+01</td>\n",
              "      <td>2014</td>\n",
              "      <td>0</td>\n",
              "      <td>...</td>\n",
              "      <td>0</td>\n",
              "      <td>1</td>\n",
              "      <td>0</td>\n",
              "      <td>0</td>\n",
              "      <td>0</td>\n",
              "      <td>0</td>\n",
              "      <td>0</td>\n",
              "      <td>0</td>\n",
              "      <td>0</td>\n",
              "      <td>0</td>\n",
              "    </tr>\n",
              "    <tr>\n",
              "      <th>4</th>\n",
              "      <td>1.017900e+16</td>\n",
              "      <td>1.199330e+16</td>\n",
              "      <td>1.321000e+02</td>\n",
              "      <td>6.287800e+15</td>\n",
              "      <td>270.0</td>\n",
              "      <td>23.0</td>\n",
              "      <td>107.0</td>\n",
              "      <td>1.237000e+16</td>\n",
              "      <td>2014</td>\n",
              "      <td>0</td>\n",
              "      <td>...</td>\n",
              "      <td>0</td>\n",
              "      <td>0</td>\n",
              "      <td>1</td>\n",
              "      <td>0</td>\n",
              "      <td>0</td>\n",
              "      <td>0</td>\n",
              "      <td>0</td>\n",
              "      <td>0</td>\n",
              "      <td>0</td>\n",
              "      <td>0</td>\n",
              "    </tr>\n",
              "  </tbody>\n",
              "</table>\n",
              "<p>5 rows × 25 columns</p>\n",
              "</div>\n",
              "      <button class=\"colab-df-convert\" onclick=\"convertToInteractive('df-b1a3f12f-7900-43aa-a255-f5f77db80b10')\"\n",
              "              title=\"Convert this dataframe to an interactive table.\"\n",
              "              style=\"display:none;\">\n",
              "        \n",
              "  <svg xmlns=\"http://www.w3.org/2000/svg\" height=\"24px\"viewBox=\"0 0 24 24\"\n",
              "       width=\"24px\">\n",
              "    <path d=\"M0 0h24v24H0V0z\" fill=\"none\"/>\n",
              "    <path d=\"M18.56 5.44l.94 2.06.94-2.06 2.06-.94-2.06-.94-.94-2.06-.94 2.06-2.06.94zm-11 1L8.5 8.5l.94-2.06 2.06-.94-2.06-.94L8.5 2.5l-.94 2.06-2.06.94zm10 10l.94 2.06.94-2.06 2.06-.94-2.06-.94-.94-2.06-.94 2.06-2.06.94z\"/><path d=\"M17.41 7.96l-1.37-1.37c-.4-.4-.92-.59-1.43-.59-.52 0-1.04.2-1.43.59L10.3 9.45l-7.72 7.72c-.78.78-.78 2.05 0 2.83L4 21.41c.39.39.9.59 1.41.59.51 0 1.02-.2 1.41-.59l7.78-7.78 2.81-2.81c.8-.78.8-2.07 0-2.86zM5.41 20L4 18.59l7.72-7.72 1.47 1.35L5.41 20z\"/>\n",
              "  </svg>\n",
              "      </button>\n",
              "      \n",
              "  <style>\n",
              "    .colab-df-container {\n",
              "      display:flex;\n",
              "      flex-wrap:wrap;\n",
              "      gap: 12px;\n",
              "    }\n",
              "\n",
              "    .colab-df-convert {\n",
              "      background-color: #E8F0FE;\n",
              "      border: none;\n",
              "      border-radius: 50%;\n",
              "      cursor: pointer;\n",
              "      display: none;\n",
              "      fill: #1967D2;\n",
              "      height: 32px;\n",
              "      padding: 0 0 0 0;\n",
              "      width: 32px;\n",
              "    }\n",
              "\n",
              "    .colab-df-convert:hover {\n",
              "      background-color: #E2EBFA;\n",
              "      box-shadow: 0px 1px 2px rgba(60, 64, 67, 0.3), 0px 1px 3px 1px rgba(60, 64, 67, 0.15);\n",
              "      fill: #174EA6;\n",
              "    }\n",
              "\n",
              "    [theme=dark] .colab-df-convert {\n",
              "      background-color: #3B4455;\n",
              "      fill: #D2E3FC;\n",
              "    }\n",
              "\n",
              "    [theme=dark] .colab-df-convert:hover {\n",
              "      background-color: #434B5C;\n",
              "      box-shadow: 0px 1px 3px 1px rgba(0, 0, 0, 0.15);\n",
              "      filter: drop-shadow(0px 1px 2px rgba(0, 0, 0, 0.3));\n",
              "      fill: #FFFFFF;\n",
              "    }\n",
              "  </style>\n",
              "\n",
              "      <script>\n",
              "        const buttonEl =\n",
              "          document.querySelector('#df-b1a3f12f-7900-43aa-a255-f5f77db80b10 button.colab-df-convert');\n",
              "        buttonEl.style.display =\n",
              "          google.colab.kernel.accessAllowed ? 'block' : 'none';\n",
              "\n",
              "        async function convertToInteractive(key) {\n",
              "          const element = document.querySelector('#df-b1a3f12f-7900-43aa-a255-f5f77db80b10');\n",
              "          const dataTable =\n",
              "            await google.colab.kernel.invokeFunction('convertToInteractive',\n",
              "                                                     [key], {});\n",
              "          if (!dataTable) return;\n",
              "\n",
              "          const docLinkHtml = 'Like what you see? Visit the ' +\n",
              "            '<a target=\"_blank\" href=https://colab.research.google.com/notebooks/data_table.ipynb>data table notebook</a>'\n",
              "            + ' to learn more about interactive tables.';\n",
              "          element.innerHTML = '';\n",
              "          dataTable['output_type'] = 'display_data';\n",
              "          await google.colab.output.renderOutput(dataTable, element);\n",
              "          const docLink = document.createElement('div');\n",
              "          docLink.innerHTML = docLinkHtml;\n",
              "          element.appendChild(docLink);\n",
              "        }\n",
              "      </script>\n",
              "    </div>\n",
              "  </div>\n",
              "  "
            ]
          },
          "metadata": {},
          "execution_count": 9
        }
      ]
    },
    {
      "cell_type": "markdown",
      "source": [
        "VALIDACIÓN DE DATOS\n",
        "\n",
        "Generalmente, cuando trabajemos con algoritmos de clustering, dado que son algoritmos basados en distancias, va a ser fundamental escalar los datos para prescindir de las unidades de medida de las diferentes features. A continuación, escalamos los datos numéricos:"
      ],
      "metadata": {
        "id": "KU6nvdyvYeMt"
      }
    },
    {
      "cell_type": "code",
      "source": [
        "from sklearn.preprocessing import scale, MinMaxScaler\n",
        "\n",
        "# scale\n",
        "scaled_1 = scale(Bd)\n",
        "\n",
        "# MinMaxScaler\n",
        "scaler = MinMaxScaler()\n",
        "scaled_2 = scaler.fit_transform(Bd)\n",
        "\n",
        "# Muestro las primeras 5 filas escaladas con scale\n",
        "print(\"Escalado con scale:\")\n",
        "print(scaled_1[1:6,])\n",
        "\n",
        "# Muestro las primeras 5 filas escaladas con Min-Max\n",
        "print(\"\\nEscalado con Min-Max:\")\n",
        "print(scaled_2[1:6,])"
      ],
      "metadata": {
        "colab": {
          "base_uri": "https://localhost:8080/"
        },
        "id": "IMY4DvqfavgF",
        "outputId": "77c77b16-5635-4542-addb-203df2c4f247"
      },
      "execution_count": 10,
      "outputs": [
        {
          "output_type": "stream",
          "name": "stdout",
          "text": [
            "Escalado con scale:\n",
            "[[-1.46310186 -1.45695096  1.92132504  0.36042171 -0.24579619  1.56252364\n",
            "  -0.56262596 -0.4253055  -1.4471361   3.60555128 -0.12038585 -0.69954392\n",
            "  -1.18903032 -0.30618622  3.26598632 -0.30618622 -0.30618622 -0.30618622\n",
            "  -0.30618622 -0.30618622 -0.30618622 -0.30618622 -0.30618622 -0.2773501\n",
            "  -0.2773501 ]\n",
            " [ 0.23607581  0.08180005 -0.91997755 -0.95754812 -0.24579619  0.25617923\n",
            "  -0.68580624 -0.4253055  -1.4471361  -0.2773501  -0.12038585 -0.69954392\n",
            "   0.84102145 -0.30618622 -0.30618622  3.26598632 -0.30618622 -0.30618622\n",
            "  -0.30618622 -0.30618622 -0.30618622 -0.30618622 -0.30618622 -0.2773501\n",
            "  -0.2773501 ]\n",
            " [-0.06484084  0.01524757  1.18130217 -0.95754812 -0.24579619  0.01866206\n",
            "  -0.87057667 -0.4253055  -1.4471361  -0.2773501  -0.12038585  1.4295028\n",
            "  -1.18903032 -0.30618622 -0.30618622 -0.30618622  3.26598632 -0.30618622\n",
            "  -0.30618622 -0.30618622 -0.30618622 -0.30618622 -0.30618622 -0.2773501\n",
            "  -0.2773501 ]\n",
            " [-0.20466695  0.59857295 -0.91997755 -0.13040662 -0.24579619  0.61245498\n",
            "  -0.74739639  0.58417339 -1.4471361  -0.2773501  -0.12038585 -0.69954392\n",
            "   0.84102145 -0.30618622 -0.30618622 -0.30618622 -0.30618622  3.26598632\n",
            "  -0.30618622 -0.30618622 -0.30618622 -0.30618622 -0.30618622 -0.2773501\n",
            "  -0.2773501 ]\n",
            " [-0.07757479  0.11550721 -0.91997755 -0.95754812 -0.24579619  0.61245498\n",
            "  -1.36329782 -0.4253055  -1.4471361  -0.2773501  -0.12038585  1.4295028\n",
            "  -1.18903032 -0.30618622 -0.30618622 -0.30618622 -0.30618622 -0.30618622\n",
            "   3.26598632 -0.30618622 -0.30618622 -0.30618622 -0.30618622 -0.2773501\n",
            "  -0.2773501 ]]\n",
            "\n",
            "Escalado con Min-Max:\n",
            "[[3.00473293e-15 5.66896483e-02 9.23799582e-01 2.09012204e-01\n",
            "  1.30173062e-14 6.20000000e-01 3.16062176e-01 6.81732580e-16\n",
            "  0.00000000e+00 1.00000000e+00 0.00000000e+00 0.00000000e+00\n",
            "  0.00000000e+00 0.00000000e+00 1.00000000e+00 0.00000000e+00\n",
            "  0.00000000e+00 0.00000000e+00 0.00000000e+00 0.00000000e+00\n",
            "  0.00000000e+00 0.00000000e+00 0.00000000e+00 0.00000000e+00\n",
            "  0.00000000e+00]\n",
            " [3.09758846e-01 4.18032750e-01 7.70641962e-12 1.62569104e-11\n",
            "  8.69074492e-15 4.00000000e-01 2.90155440e-01 1.60828625e-15\n",
            "  0.00000000e+00 0.00000000e+00 0.00000000e+00 0.00000000e+00\n",
            "  1.00000000e+00 0.00000000e+00 0.00000000e+00 1.00000000e+00\n",
            "  0.00000000e+00 0.00000000e+00 0.00000000e+00 0.00000000e+00\n",
            "  0.00000000e+00 0.00000000e+00 0.00000000e+00 0.00000000e+00\n",
            "  0.00000000e+00]\n",
            " [2.54901961e-01 4.02404307e-01 6.83194154e-01 1.45718160e-14\n",
            "  7.82543266e-15 3.60000000e-01 2.51295337e-01 1.38794727e-15\n",
            "  0.00000000e+00 0.00000000e+00 0.00000000e+00 1.00000000e+00\n",
            "  0.00000000e+00 0.00000000e+00 0.00000000e+00 0.00000000e+00\n",
            "  1.00000000e+00 0.00000000e+00 0.00000000e+00 0.00000000e+00\n",
            "  0.00000000e+00 0.00000000e+00 0.00000000e+00 0.00000000e+00\n",
            "  0.00000000e+00]\n",
            " [2.29411765e-01 5.39385926e-01 6.89457203e-15 1.31173464e-01\n",
            "  1.01203913e-14 4.60000000e-01 2.77202073e-01 2.32956685e-01\n",
            "  0.00000000e+00 0.00000000e+00 0.00000000e+00 0.00000000e+00\n",
            "  1.00000000e+00 0.00000000e+00 0.00000000e+00 0.00000000e+00\n",
            "  0.00000000e+00 1.00000000e+00 0.00000000e+00 0.00000000e+00\n",
            "  0.00000000e+00 0.00000000e+00 0.00000000e+00 0.00000000e+00\n",
            "  0.00000000e+00]\n",
            " [2.52580572e-01 4.25948163e-01 6.41440501e-15 1.14368416e-11\n",
            "  1.21143717e-14 4.60000000e-01 1.47668394e-01 2.05838041e-15\n",
            "  0.00000000e+00 0.00000000e+00 0.00000000e+00 1.00000000e+00\n",
            "  0.00000000e+00 0.00000000e+00 0.00000000e+00 0.00000000e+00\n",
            "  0.00000000e+00 0.00000000e+00 1.00000000e+00 0.00000000e+00\n",
            "  0.00000000e+00 0.00000000e+00 0.00000000e+00 0.00000000e+00\n",
            "  0.00000000e+00]]\n"
          ]
        },
        {
          "output_type": "stream",
          "name": "stderr",
          "text": [
            "/usr/local/lib/python3.7/dist-packages/sklearn/preprocessing/_data.py:236: UserWarning: Numerical issues were encountered when centering the data and might not be solved. Dataset may contain too large values. You may need to prescale your features.\n",
            "  \"Numerical issues were encountered \"\n"
          ]
        }
      ]
    },
    {
      "cell_type": "markdown",
      "source": [
        "ALGORITMO K-MEANS"
      ],
      "metadata": {
        "id": "ynlZHxe5Y-uW"
      }
    },
    {
      "cell_type": "code",
      "source": [
        "from sklearn.cluster import KMeans\n",
        "\n",
        "km = KMeans(\n",
        "    n_clusters=4, init='random',\n",
        "    n_init=6, random_state=0\n",
        ")"
      ],
      "metadata": {
        "id": "_Zh6Gvd8YwLt"
      },
      "execution_count": 11,
      "outputs": []
    },
    {
      "cell_type": "code",
      "source": [
        "y_km = km.fit_predict(scaled_1)"
      ],
      "metadata": {
        "id": "h5sp-BLTY0_Y"
      },
      "execution_count": 12,
      "outputs": []
    },
    {
      "cell_type": "code",
      "source": [
        "print(y_km)"
      ],
      "metadata": {
        "colab": {
          "base_uri": "https://localhost:8080/"
        },
        "id": "QTyau3bjY9Qv",
        "outputId": "032b0ff7-b1aa-4590-b460-ecb67e6e2eee"
      },
      "execution_count": 13,
      "outputs": [
        {
          "output_type": "stream",
          "name": "stdout",
          "text": [
            "[2 0 2 1 3 1 3 3 1 2 1 2 2 0 2 1 3 1 3 3 1 2 1 2 2 0 2 1 2 1 3 3 1 2 1 2 3\n",
            " 0 2 1 3 1 3 3 1 2 1 2 2 0 2 1 2 1 3 3 1 2 1 2 2 0 2 1 2 1 3 3 1 2]\n"
          ]
        }
      ]
    },
    {
      "cell_type": "markdown",
      "source": [
        "GRAFICAR\n",
        "\n",
        "Para graficar los clústeres, utilizamos Matplotlib. La mejor forma de ver como se comportan los datos es con un gráfico de dispersión (scatter)"
      ],
      "metadata": {
        "id": "dt8IAHulZHN0"
      }
    },
    {
      "cell_type": "code",
      "source": [
        "import matplotlib.pyplot as plt\n",
        "\n",
        "#configuro el tamaño del grafico final\n",
        "plt.figure(figsize=(22,13))\n",
        "\n",
        "#scatter del primer cluster\n",
        "plt.scatter(\n",
        "    scaled_1[y_km == 2, 0], scaled_1[y_km == 2, 3],\n",
        "    s=50, c='lightgreen',\n",
        "    marker='s', edgecolor='black',\n",
        "    label='cluster 1'\n",
        ")\n",
        "#scatter del segundo cluster\n",
        "plt.scatter(\n",
        "    scaled_1[y_km == 1, 6], scaled_1[y_km == 1, 2],\n",
        "    s=50, c='orange',\n",
        "    marker='o', edgecolor='black',\n",
        "    label='cluster 2'\n",
        ")\n",
        "#scatter del tercer cluster\n",
        "plt.scatter(\n",
        "    scaled_1[y_km == 4, 7], scaled_1[y_km == 4, 7],\n",
        "    s=50, c='lightblue',\n",
        "    marker='v', edgecolor='black',\n",
        "    label='cluster 3'\n",
        ")\n",
        "#scatter del cuarto cluster\n",
        "plt.scatter(\n",
        "    scaled_1[y_km == 3, 5], scaled_1[y_km == 3, 6],\n",
        "    s=50, c='green',\n",
        "    marker='o', edgecolor='black',\n",
        "    label='cluster 4'\n",
        ")\n",
        "#scatter del quinto cluster\n",
        "plt.scatter(\n",
        "    scaled_1[y_km == 1, 3], scaled_1[y_km == 1, 4],\n",
        "    s=50, c='red',\n",
        "    marker='o', edgecolor='black',\n",
        "    label='cluster 5'\n",
        ")\n",
        "#scatter del sexto cluster\n",
        "plt.scatter(\n",
        "    scaled_1[y_km == 4, 6], scaled_1[y_km == 4, 6],\n",
        "    s=50, c='purple',\n",
        "    marker='o', edgecolor='black',\n",
        "    label='cluster 6'\n",
        ")\n",
        "\n",
        "#scatter del septimo cluster\n",
        "plt.scatter(\n",
        "    scaled_1[y_km == 6, 4], scaled_1[y_km == 4, 6],\n",
        "    s=50, c='purple',\n",
        "    marker='o', edgecolor='black',\n",
        "    label='cluster 7'\n",
        ")\n",
        "\n",
        "#scatter del sexto cluster\n",
        "plt.scatter(\n",
        "    scaled_1[y_km == 6, 1], scaled_1[y_km == 5, 6],\n",
        "    s=50, c='purple',\n",
        "    marker='o', edgecolor='black',\n",
        "    label='cluster 8'\n",
        ")\n",
        "\n",
        "\n",
        "\n",
        "\n",
        "#scatter del los centroides\n",
        "plt.scatter(\n",
        "    km.cluster_centers_[:, 0], km.cluster_centers_[:, 1],\n",
        "    s=250, marker='*',\n",
        "    c='red', edgecolor='black',\n",
        "    label='centroides'\n",
        ")\n",
        "#le pongo la leyenda\n",
        "plt.legend(scatterpoints=1)\n",
        "#hace una grilla en el grafico\n",
        "plt.grid()\n",
        "#lo imprime en pantalla\n",
        "plt.show()"
      ],
      "metadata": {
        "colab": {
          "base_uri": "https://localhost:8080/",
          "height": 755
        },
        "id": "v3nBCXFkZLjm",
        "outputId": "5729630f-90ff-43f9-b16d-f9e88e817907"
      },
      "execution_count": 14,
      "outputs": [
        {
          "output_type": "display_data",
          "data": {
            "text/plain": [
              "<Figure size 1584x936 with 1 Axes>"
            ],
            "image/png": "[encoded data removed]"
          },
          "metadata": {
            "needs_background": "light"
          }
        }
      ]
    },
    {
      "cell_type": "markdown",
      "source": [
        "MÉTRICAS DE EVALUACIÓN\n",
        "\n",
        "\n",
        "El método de Elbow consiste básicamente en verificar la evolución de la suma de los cuadrados del error para varios valores de K y verificar cual es el que brinda un mejor agrupamiento."
      ],
      "metadata": {
        "id": "XRCGueMIZfez"
      }
    },
    {
      "cell_type": "code",
      "source": [
        "# Se corre el algoritmo con K entre 2 y 10 y se va guardando el error para luego graficarlo.\n",
        "sse = []\n",
        "list_k = list(range(1, 10))\n",
        "\n",
        "for k in list_k:\n",
        "    km = KMeans(n_clusters=k)\n",
        "    km.fit(scaled_1)\n",
        "    sse.append(km.inertia_)\n",
        "\n",
        "# Grafico el SSE por K\n",
        "plt.figure(figsize=(6, 6))\n",
        "plt.plot(list_k, sse, '-o')\n",
        "plt.xlabel(r'Cantidad de clusters *k*')\n",
        "plt.ylabel('SSE');"
      ],
      "metadata": {
        "colab": {
          "base_uri": "https://localhost:8080/",
          "height": 388
        },
        "id": "JfPzdeo-ZkyD",
        "outputId": "2c205040-d7a0-438e-ae16-b9e9e8c370ad"
      },
      "execution_count": 15,
      "outputs": [
        {
          "output_type": "display_data",
          "data": {
            "text/plain": [
              "<Figure size 432x432 with 1 Axes>"
            ],
            "image/png": "[encoded data removed]"
          },
          "metadata": {
            "needs_background": "light"
          }
        }
      ]
    },
    {
      "cell_type": "code",
      "source": [
        "clases = km.labels_"
      ],
      "metadata": {
        "id": "mgortub_Z1S_"
      },
      "execution_count": 16,
      "outputs": []
    },
    {
      "cell_type": "code",
      "source": [
        "clases.shape"
      ],
      "metadata": {
        "colab": {
          "base_uri": "https://localhost:8080/"
        },
        "id": "vMs4PhwyZ9kp",
        "outputId": "2706c7d5-dec9-4925-8067-d50eff5d1a9e"
      },
      "execution_count": 17,
      "outputs": [
        {
          "output_type": "execute_result",
          "data": {
            "text/plain": [
              "(70,)"
            ]
          },
          "metadata": {},
          "execution_count": 17
        }
      ]
    },
    {
      "cell_type": "code",
      "source": [
        "print(clases)"
      ],
      "metadata": {
        "colab": {
          "base_uri": "https://localhost:8080/"
        },
        "id": "X6BKIFlhaAjm",
        "outputId": "198855e5-9212-4095-dceb-ecdd8a45773a"
      },
      "execution_count": 18,
      "outputs": [
        {
          "output_type": "stream",
          "name": "stdout",
          "text": [
            "[1 5 2 6 7 8 7 7 3 4 0 1 1 5 2 6 7 8 7 7 3 4 0 1 1 5 2 6 7 8 7 7 3 4 0 1 7\n",
            " 5 2 6 7 8 1 7 3 4 0 1 1 5 2 6 7 8 7 7 3 4 0 1 1 5 2 6 7 8 7 7 3 4]\n"
          ]
        }
      ]
    },
    {
      "cell_type": "markdown",
      "source": [
        "ALGORITMO DE CLASIFICACIÓN"
      ],
      "metadata": {
        "id": "q8-h7ZwvaEBE"
      }
    },
    {
      "cell_type": "code",
      "source": [
        "from sklearn.model_selection import train_test_split"
      ],
      "metadata": {
        "id": "VFXReLiNaFKW"
      },
      "execution_count": 19,
      "outputs": []
    },
    {
      "cell_type": "code",
      "source": [
        "datos_Bd_variables = Bd"
      ],
      "metadata": {
        "id": "uy0RPbBaaLr-"
      },
      "execution_count": 20,
      "outputs": []
    },
    {
      "cell_type": "code",
      "source": [
        "X_entrenamiento, X_prueba, y_entrenamiento, y_prueba = train_test_split(datos_Bd_variables, clases, random_state=1)"
      ],
      "metadata": {
        "id": "ZwC2qJjpaPLf"
      },
      "execution_count": 21,
      "outputs": []
    },
    {
      "cell_type": "code",
      "source": [
        "print(\"Tamaño de los datos de entrenamiento = \", X_entrenamiento.shape)\n",
        "print(\"Tamaño de los datos de prueba = \", X_prueba.shape)\n",
        "print(\"Tamaño del vector de clases de entrenamiento = \" , y_entrenamiento.shape)\n",
        "print(\"Tamaño del vector de clases de prueba = \", y_prueba.shape)"
      ],
      "metadata": {
        "id": "3gR7TT89aTle",
        "colab": {
          "base_uri": "https://localhost:8080/"
        },
        "outputId": "d26e40ad-ead9-4afd-ddef-c89b4f03f57b"
      },
      "execution_count": 22,
      "outputs": [
        {
          "output_type": "stream",
          "name": "stdout",
          "text": [
            "Tamaño de los datos de entrenamiento =  (52, 25)\n",
            "Tamaño de los datos de prueba =  (18, 25)\n",
            "Tamaño del vector de clases de entrenamiento =  (52,)\n",
            "Tamaño del vector de clases de prueba =  (18,)\n"
          ]
        }
      ]
    },
    {
      "cell_type": "code",
      "source": [
        "# Cargar librerias\n",
        "from sklearn.ensemble import AdaBoostClassifier\n",
        "# Importar Clasificador de Vector de Soporte\n",
        "from sklearn.svm import SVC\n",
        "# Importar métricas scikit-learn para calculos exactos\n",
        "from sklearn import metrics"
      ],
      "metadata": {
        "id": "ZWz23OuFaXYt"
      },
      "execution_count": 23,
      "outputs": []
    },
    {
      "cell_type": "code",
      "source": [
        "# Crear clasificador base\n",
        "svc = SVC(probability=True, kernel='linear')\n",
        "\n",
        "# Crear objeto de clasificación AdaBoost\n",
        "abc = AdaBoostClassifier(n_estimators=2500,learning_rate=0.001)\n",
        "\n",
        "# Clasificador de entrenamiento AdaBoost\n",
        "model = abc.fit(X_entrenamiento, y_entrenamiento)\n",
        "\n",
        "# Predicción de la respuesta para la bd de prueba\n",
        "y_pred = model.predict(X_prueba)\n",
        "\n",
        "# Exactitud del modelo, qué tan correcto es el clasificador?\n",
        "print(\"Accuracy:\",metrics.accuracy_score(y_prueba, y_pred))"
      ],
      "metadata": {
        "colab": {
          "base_uri": "https://localhost:8080/"
        },
        "id": "BzWtM4SDaamw",
        "outputId": "c4314db8-a8db-44ee-dbe0-14476464703f"
      },
      "execution_count": 24,
      "outputs": [
        {
          "output_type": "stream",
          "name": "stdout",
          "text": [
            "Accuracy: 0.6111111111111112\n"
          ]
        }
      ]
    }
  ]
}