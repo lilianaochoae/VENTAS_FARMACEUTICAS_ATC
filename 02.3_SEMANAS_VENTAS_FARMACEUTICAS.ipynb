{
  "nbformat": 4,
  "nbformat_minor": 0,
  "metadata": {
    "colab": {
      "provenance": [],
      "collapsed_sections": [],
      "include_colab_link": true
    },
    "kernelspec": {
      "name": "python3",
      "display_name": "Python 3"
    },
    "language_info": {
      "name": "python"
    }
  },
  "cells": [
    {
      "cell_type": "markdown",
      "metadata": {
        "id": "view-in-github",
        "colab_type": "text"
      },
      "source": [
        "<a href=\"https://colab.research.google.com/github/lilianaochoae/VENTAS_FARMACEUTICAS_ATC/blob/main/02.3_SEMANAS_VENTAS_FARMACEUTICAS.ipynb\" target=\"_parent\"><img src=\"https://colab.research.google.com/assets/colab-badge.svg\" alt=\"Open In Colab\"/></a>"
      ]
    },
    {
      "cell_type": "markdown",
      "source": [
        "IMPORTACIÓN DE LIBRERÍA"
      ],
      "metadata": {
        "id": "Gxmvz0HGW9D4"
      }
    },
    {
      "cell_type": "code",
      "execution_count": null,
      "metadata": {
        "id": "WcS-RhBrWtkr"
      },
      "outputs": [],
      "source": [
        "import numpy as np\n",
        "import pandas as pd\n",
        "import seaborn as sns\n",
        "import matplotlib.pyplot as plt\n",
        "%matplotlib inline"
      ]
    },
    {
      "cell_type": "markdown",
      "source": [
        "CARGADE BASE DE DATOS"
      ],
      "metadata": {
        "id": "Q7a8hVVkXIqv"
      }
    },
    {
      "cell_type": "code",
      "source": [
        "columns_dtypes = {'M01AB' : 'category',\n",
        "                  'M01AE' : 'category',\n",
        "                  'N02BA' : 'category',\n",
        "                  'N02BE' : 'category',\n",
        "                  'N05B' : 'category',\n",
        "                  'N05C' : 'category',\n",
        "                  'R03' : 'category',\n",
        "                  'R06' : 'category'}"
      ],
      "metadata": {
        "id": "2Z6z2FKSXDGD"
      },
      "execution_count": null,
      "outputs": []
    },
    {
      "cell_type": "code",
      "source": [
        "Bd = pd.read_csv('https://docs.google.com/spreadsheets/d/e/2PACX-1vT1H-YbYPuoX-I7AGtS5ZtFLe0XyRV15gMzxG1fHFX-J7ZRCRVbwVNJKnwpAfyjvv5CgVNp7CthCcwb/pub?output=csv')"
      ],
      "metadata": {
        "id": "YSxv7IwPXPTv"
      },
      "execution_count": null,
      "outputs": []
    },
    {
      "cell_type": "code",
      "source": [
        "print (Bd.shape)"
      ],
      "metadata": {
        "colab": {
          "base_uri": "https://localhost:8080/"
        },
        "id": "5rjGXI3WXXvV",
        "outputId": "8f4fa812-1a78-4376-f1ab-59077b2936fd"
      },
      "execution_count": null,
      "outputs": [
        {
          "output_type": "stream",
          "name": "stdout",
          "text": [
            "(302, 11)\n"
          ]
        }
      ]
    },
    {
      "cell_type": "markdown",
      "source": [
        "El dataset contiene 50532 observaciones y 13 columnas"
      ],
      "metadata": {
        "id": "dM0pbP_OXj_3"
      }
    },
    {
      "cell_type": "markdown",
      "source": [
        "PORCENTAJE DE VALORES FALTANTES EN COLUMNAS"
      ],
      "metadata": {
        "id": "hM1MvRFaXpmn"
      }
    },
    {
      "cell_type": "code",
      "source": [
        "k = Bd.isna().sum()\n",
        "((round(k[k!=0]/Bd.shape[0], 2) * 100).astype(int)).astype(str).str.cat(['' for i in range(len(k[k!=0]))], sep='%')"
      ],
      "metadata": {
        "colab": {
          "base_uri": "https://localhost:8080/"
        },
        "id": "mCDHlGyqXiUm",
        "outputId": "bbbbc50c-bd48-4c2c-befe-23f2df505965"
      },
      "execution_count": null,
      "outputs": [
        {
          "output_type": "execute_result",
          "data": {
            "text/plain": [
              "Series([], dtype: object)"
            ]
          },
          "metadata": {},
          "execution_count": 5
        }
      ]
    },
    {
      "cell_type": "code",
      "source": [
        "base = Bd"
      ],
      "metadata": {
        "id": "GyPYHErKX8LH"
      },
      "execution_count": null,
      "outputs": []
    },
    {
      "cell_type": "markdown",
      "source": [
        "LIMPIEZA DE LOS DATOS"
      ],
      "metadata": {
        "id": "ho-UJU0EX_1G"
      }
    },
    {
      "cell_type": "code",
      "source": [
        "#HotEncoding en la variable dia\n",
        "dummy_dia = pd.get_dummies(Bd[\"dia\"], prefix = \"dia\")\n",
        "dummy_dia.head()\n",
        "\n",
        "#Agregar el HotEncoding de DIA a la BD\n",
        "Bd = Bd.drop([\"dia\"], axis = 1)\n",
        "Bd = pd.concat([Bd,dummy_dia], axis = 1)\n",
        "Bd.head()"
      ],
      "metadata": {
        "colab": {
          "base_uri": "https://localhost:8080/",
          "height": 236
        },
        "id": "6n7xc0SGYJ4-",
        "outputId": "40424560-af08-4b0b-fb91-3064c10422f9"
      },
      "execution_count": null,
      "outputs": [
        {
          "output_type": "execute_result",
          "data": {
            "text/plain": [
              "   M01AB  M01AE    N02BA   N02BE  N05B  N05C   R03      R06  mes   año  ...  \\\n",
              "0  14.00  11.67  44641.0  185.95  41.0     0  32.0      7.0    1  2014  ...   \n",
              "1  29.33  12.68     37.9  190.70  88.0     5  21.0  44599.0    1  2014  ...   \n",
              "2  30.67  26.34     45.9  218.40  80.0     8  29.0     12.0    1  2014  ...   \n",
              "3  34.00  32.37  44712.0  179.60  80.0     8  23.0     10.0    1  2014  ...   \n",
              "4  31.02  23.35  44762.0  159.88  84.0    12  29.0     12.0    2  2014  ...   \n",
              "\n",
              "   dia_22  dia_23  dia_24  dia_25  dia_26  dia_27  dia_28  dia_29  dia_30  \\\n",
              "0       0       0       0       0       0       0       0       0       0   \n",
              "1       0       0       0       0       0       0       0       0       0   \n",
              "2       0       0       0       0       0       0       0       0       0   \n",
              "3       0       0       0       0       1       0       0       0       0   \n",
              "4       0       0       0       0       0       0       0       0       0   \n",
              "\n",
              "   dia_31  \n",
              "0       0  \n",
              "1       0  \n",
              "2       0  \n",
              "3       0  \n",
              "4       0  \n",
              "\n",
              "[5 rows x 41 columns]"
            ],
            "text/html": [
              "\n",
              "  <div id=\"df-6787114f-2476-46c5-8d0b-99aeeda5dfb4\">\n",
              "    <div class=\"colab-df-container\">\n",
              "      <div>\n",
              "<style scoped>\n",
              "    .dataframe tbody tr th:only-of-type {\n",
              "        vertical-align: middle;\n",
              "    }\n",
              "\n",
              "    .dataframe tbody tr th {\n",
              "        vertical-align: top;\n",
              "    }\n",
              "\n",
              "    .dataframe thead th {\n",
              "        text-align: right;\n",
              "    }\n",
              "</style>\n",
              "<table border=\"1\" class=\"dataframe\">\n",
              "  <thead>\n",
              "    <tr style=\"text-align: right;\">\n",
              "      <th></th>\n",
              "      <th>M01AB</th>\n",
              "      <th>M01AE</th>\n",
              "      <th>N02BA</th>\n",
              "      <th>N02BE</th>\n",
              "      <th>N05B</th>\n",
              "      <th>N05C</th>\n",
              "      <th>R03</th>\n",
              "      <th>R06</th>\n",
              "      <th>mes</th>\n",
              "      <th>año</th>\n",
              "      <th>...</th>\n",
              "      <th>dia_22</th>\n",
              "      <th>dia_23</th>\n",
              "      <th>dia_24</th>\n",
              "      <th>dia_25</th>\n",
              "      <th>dia_26</th>\n",
              "      <th>dia_27</th>\n",
              "      <th>dia_28</th>\n",
              "      <th>dia_29</th>\n",
              "      <th>dia_30</th>\n",
              "      <th>dia_31</th>\n",
              "    </tr>\n",
              "  </thead>\n",
              "  <tbody>\n",
              "    <tr>\n",
              "      <th>0</th>\n",
              "      <td>14.00</td>\n",
              "      <td>11.67</td>\n",
              "      <td>44641.0</td>\n",
              "      <td>185.95</td>\n",
              "      <td>41.0</td>\n",
              "      <td>0</td>\n",
              "      <td>32.0</td>\n",
              "      <td>7.0</td>\n",
              "      <td>1</td>\n",
              "      <td>2014</td>\n",
              "      <td>...</td>\n",
              "      <td>0</td>\n",
              "      <td>0</td>\n",
              "      <td>0</td>\n",
              "      <td>0</td>\n",
              "      <td>0</td>\n",
              "      <td>0</td>\n",
              "      <td>0</td>\n",
              "      <td>0</td>\n",
              "      <td>0</td>\n",
              "      <td>0</td>\n",
              "    </tr>\n",
              "    <tr>\n",
              "      <th>1</th>\n",
              "      <td>29.33</td>\n",
              "      <td>12.68</td>\n",
              "      <td>37.9</td>\n",
              "      <td>190.70</td>\n",
              "      <td>88.0</td>\n",
              "      <td>5</td>\n",
              "      <td>21.0</td>\n",
              "      <td>44599.0</td>\n",
              "      <td>1</td>\n",
              "      <td>2014</td>\n",
              "      <td>...</td>\n",
              "      <td>0</td>\n",
              "      <td>0</td>\n",
              "      <td>0</td>\n",
              "      <td>0</td>\n",
              "      <td>0</td>\n",
              "      <td>0</td>\n",
              "      <td>0</td>\n",
              "      <td>0</td>\n",
              "      <td>0</td>\n",
              "      <td>0</td>\n",
              "    </tr>\n",
              "    <tr>\n",
              "      <th>2</th>\n",
              "      <td>30.67</td>\n",
              "      <td>26.34</td>\n",
              "      <td>45.9</td>\n",
              "      <td>218.40</td>\n",
              "      <td>80.0</td>\n",
              "      <td>8</td>\n",
              "      <td>29.0</td>\n",
              "      <td>12.0</td>\n",
              "      <td>1</td>\n",
              "      <td>2014</td>\n",
              "      <td>...</td>\n",
              "      <td>0</td>\n",
              "      <td>0</td>\n",
              "      <td>0</td>\n",
              "      <td>0</td>\n",
              "      <td>0</td>\n",
              "      <td>0</td>\n",
              "      <td>0</td>\n",
              "      <td>0</td>\n",
              "      <td>0</td>\n",
              "      <td>0</td>\n",
              "    </tr>\n",
              "    <tr>\n",
              "      <th>3</th>\n",
              "      <td>34.00</td>\n",
              "      <td>32.37</td>\n",
              "      <td>44712.0</td>\n",
              "      <td>179.60</td>\n",
              "      <td>80.0</td>\n",
              "      <td>8</td>\n",
              "      <td>23.0</td>\n",
              "      <td>10.0</td>\n",
              "      <td>1</td>\n",
              "      <td>2014</td>\n",
              "      <td>...</td>\n",
              "      <td>0</td>\n",
              "      <td>0</td>\n",
              "      <td>0</td>\n",
              "      <td>0</td>\n",
              "      <td>1</td>\n",
              "      <td>0</td>\n",
              "      <td>0</td>\n",
              "      <td>0</td>\n",
              "      <td>0</td>\n",
              "      <td>0</td>\n",
              "    </tr>\n",
              "    <tr>\n",
              "      <th>4</th>\n",
              "      <td>31.02</td>\n",
              "      <td>23.35</td>\n",
              "      <td>44762.0</td>\n",
              "      <td>159.88</td>\n",
              "      <td>84.0</td>\n",
              "      <td>12</td>\n",
              "      <td>29.0</td>\n",
              "      <td>12.0</td>\n",
              "      <td>2</td>\n",
              "      <td>2014</td>\n",
              "      <td>...</td>\n",
              "      <td>0</td>\n",
              "      <td>0</td>\n",
              "      <td>0</td>\n",
              "      <td>0</td>\n",
              "      <td>0</td>\n",
              "      <td>0</td>\n",
              "      <td>0</td>\n",
              "      <td>0</td>\n",
              "      <td>0</td>\n",
              "      <td>0</td>\n",
              "    </tr>\n",
              "  </tbody>\n",
              "</table>\n",
              "<p>5 rows × 41 columns</p>\n",
              "</div>\n",
              "      <button class=\"colab-df-convert\" onclick=\"convertToInteractive('df-6787114f-2476-46c5-8d0b-99aeeda5dfb4')\"\n",
              "              title=\"Convert this dataframe to an interactive table.\"\n",
              "              style=\"display:none;\">\n",
              "        \n",
              "  <svg xmlns=\"http://www.w3.org/2000/svg\" height=\"24px\"viewBox=\"0 0 24 24\"\n",
              "       width=\"24px\">\n",
              "    <path d=\"M0 0h24v24H0V0z\" fill=\"none\"/>\n",
              "    <path d=\"M18.56 5.44l.94 2.06.94-2.06 2.06-.94-2.06-.94-.94-2.06-.94 2.06-2.06.94zm-11 1L8.5 8.5l.94-2.06 2.06-.94-2.06-.94L8.5 2.5l-.94 2.06-2.06.94zm10 10l.94 2.06.94-2.06 2.06-.94-2.06-.94-.94-2.06-.94 2.06-2.06.94z\"/><path d=\"M17.41 7.96l-1.37-1.37c-.4-.4-.92-.59-1.43-.59-.52 0-1.04.2-1.43.59L10.3 9.45l-7.72 7.72c-.78.78-.78 2.05 0 2.83L4 21.41c.39.39.9.59 1.41.59.51 0 1.02-.2 1.41-.59l7.78-7.78 2.81-2.81c.8-.78.8-2.07 0-2.86zM5.41 20L4 18.59l7.72-7.72 1.47 1.35L5.41 20z\"/>\n",
              "  </svg>\n",
              "      </button>\n",
              "      \n",
              "  <style>\n",
              "    .colab-df-container {\n",
              "      display:flex;\n",
              "      flex-wrap:wrap;\n",
              "      gap: 12px;\n",
              "    }\n",
              "\n",
              "    .colab-df-convert {\n",
              "      background-color: #E8F0FE;\n",
              "      border: none;\n",
              "      border-radius: 50%;\n",
              "      cursor: pointer;\n",
              "      display: none;\n",
              "      fill: #1967D2;\n",
              "      height: 32px;\n",
              "      padding: 0 0 0 0;\n",
              "      width: 32px;\n",
              "    }\n",
              "\n",
              "    .colab-df-convert:hover {\n",
              "      background-color: #E2EBFA;\n",
              "      box-shadow: 0px 1px 2px rgba(60, 64, 67, 0.3), 0px 1px 3px 1px rgba(60, 64, 67, 0.15);\n",
              "      fill: #174EA6;\n",
              "    }\n",
              "\n",
              "    [theme=dark] .colab-df-convert {\n",
              "      background-color: #3B4455;\n",
              "      fill: #D2E3FC;\n",
              "    }\n",
              "\n",
              "    [theme=dark] .colab-df-convert:hover {\n",
              "      background-color: #434B5C;\n",
              "      box-shadow: 0px 1px 3px 1px rgba(0, 0, 0, 0.15);\n",
              "      filter: drop-shadow(0px 1px 2px rgba(0, 0, 0, 0.3));\n",
              "      fill: #FFFFFF;\n",
              "    }\n",
              "  </style>\n",
              "\n",
              "      <script>\n",
              "        const buttonEl =\n",
              "          document.querySelector('#df-6787114f-2476-46c5-8d0b-99aeeda5dfb4 button.colab-df-convert');\n",
              "        buttonEl.style.display =\n",
              "          google.colab.kernel.accessAllowed ? 'block' : 'none';\n",
              "\n",
              "        async function convertToInteractive(key) {\n",
              "          const element = document.querySelector('#df-6787114f-2476-46c5-8d0b-99aeeda5dfb4');\n",
              "          const dataTable =\n",
              "            await google.colab.kernel.invokeFunction('convertToInteractive',\n",
              "                                                     [key], {});\n",
              "          if (!dataTable) return;\n",
              "\n",
              "          const docLinkHtml = 'Like what you see? Visit the ' +\n",
              "            '<a target=\"_blank\" href=https://colab.research.google.com/notebooks/data_table.ipynb>data table notebook</a>'\n",
              "            + ' to learn more about interactive tables.';\n",
              "          element.innerHTML = '';\n",
              "          dataTable['output_type'] = 'display_data';\n",
              "          await google.colab.output.renderOutput(dataTable, element);\n",
              "          const docLink = document.createElement('div');\n",
              "          docLink.innerHTML = docLinkHtml;\n",
              "          element.appendChild(docLink);\n",
              "        }\n",
              "      </script>\n",
              "    </div>\n",
              "  </div>\n",
              "  "
            ]
          },
          "metadata": {},
          "execution_count": 7
        }
      ]
    },
    {
      "cell_type": "code",
      "source": [
        "#HotEncoding en la variable mes\t\n",
        "dummy_mes\t= pd.get_dummies(Bd[\"mes\"], prefix = \"mes\")\n",
        "dummy_mes.head()\n",
        "\n",
        "#Agregar el HotEncoding de mes a la BD\n",
        "Bd = Bd.drop([\"mes\"], axis = 1)\n",
        "Bd = pd.concat([Bd,dummy_mes], axis = 1)\n",
        "Bd.head()"
      ],
      "metadata": {
        "colab": {
          "base_uri": "https://localhost:8080/",
          "height": 236
        },
        "id": "4FjABUhmYSLw",
        "outputId": "8480ade4-1547-40f4-9e47-41053adba877"
      },
      "execution_count": null,
      "outputs": [
        {
          "output_type": "execute_result",
          "data": {
            "text/plain": [
              "   M01AB  M01AE    N02BA   N02BE  N05B  N05C   R03      R06   año  dia_1  ...  \\\n",
              "0  14.00  11.67  44641.0  185.95  41.0     0  32.0      7.0  2014      0  ...   \n",
              "1  29.33  12.68     37.9  190.70  88.0     5  21.0  44599.0  2014      0  ...   \n",
              "2  30.67  26.34     45.9  218.40  80.0     8  29.0     12.0  2014      0  ...   \n",
              "3  34.00  32.37  44712.0  179.60  80.0     8  23.0     10.0  2014      0  ...   \n",
              "4  31.02  23.35  44762.0  159.88  84.0    12  29.0     12.0  2014      0  ...   \n",
              "\n",
              "   mes_3  mes_4  mes_5  mes_6  mes_7  mes_8  mes_9  mes_10  mes_11  mes_12  \n",
              "0      0      0      0      0      0      0      0       0       0       0  \n",
              "1      0      0      0      0      0      0      0       0       0       0  \n",
              "2      0      0      0      0      0      0      0       0       0       0  \n",
              "3      0      0      0      0      0      0      0       0       0       0  \n",
              "4      0      0      0      0      0      0      0       0       0       0  \n",
              "\n",
              "[5 rows x 52 columns]"
            ],
            "text/html": [
              "\n",
              "  <div id=\"df-4a0c3ee1-e474-4281-9ef9-9a97b76b880a\">\n",
              "    <div class=\"colab-df-container\">\n",
              "      <div>\n",
              "<style scoped>\n",
              "    .dataframe tbody tr th:only-of-type {\n",
              "        vertical-align: middle;\n",
              "    }\n",
              "\n",
              "    .dataframe tbody tr th {\n",
              "        vertical-align: top;\n",
              "    }\n",
              "\n",
              "    .dataframe thead th {\n",
              "        text-align: right;\n",
              "    }\n",
              "</style>\n",
              "<table border=\"1\" class=\"dataframe\">\n",
              "  <thead>\n",
              "    <tr style=\"text-align: right;\">\n",
              "      <th></th>\n",
              "      <th>M01AB</th>\n",
              "      <th>M01AE</th>\n",
              "      <th>N02BA</th>\n",
              "      <th>N02BE</th>\n",
              "      <th>N05B</th>\n",
              "      <th>N05C</th>\n",
              "      <th>R03</th>\n",
              "      <th>R06</th>\n",
              "      <th>año</th>\n",
              "      <th>dia_1</th>\n",
              "      <th>...</th>\n",
              "      <th>mes_3</th>\n",
              "      <th>mes_4</th>\n",
              "      <th>mes_5</th>\n",
              "      <th>mes_6</th>\n",
              "      <th>mes_7</th>\n",
              "      <th>mes_8</th>\n",
              "      <th>mes_9</th>\n",
              "      <th>mes_10</th>\n",
              "      <th>mes_11</th>\n",
              "      <th>mes_12</th>\n",
              "    </tr>\n",
              "  </thead>\n",
              "  <tbody>\n",
              "    <tr>\n",
              "      <th>0</th>\n",
              "      <td>14.00</td>\n",
              "      <td>11.67</td>\n",
              "      <td>44641.0</td>\n",
              "      <td>185.95</td>\n",
              "      <td>41.0</td>\n",
              "      <td>0</td>\n",
              "      <td>32.0</td>\n",
              "      <td>7.0</td>\n",
              "      <td>2014</td>\n",
              "      <td>0</td>\n",
              "      <td>...</td>\n",
              "      <td>0</td>\n",
              "      <td>0</td>\n",
              "      <td>0</td>\n",
              "      <td>0</td>\n",
              "      <td>0</td>\n",
              "      <td>0</td>\n",
              "      <td>0</td>\n",
              "      <td>0</td>\n",
              "      <td>0</td>\n",
              "      <td>0</td>\n",
              "    </tr>\n",
              "    <tr>\n",
              "      <th>1</th>\n",
              "      <td>29.33</td>\n",
              "      <td>12.68</td>\n",
              "      <td>37.9</td>\n",
              "      <td>190.70</td>\n",
              "      <td>88.0</td>\n",
              "      <td>5</td>\n",
              "      <td>21.0</td>\n",
              "      <td>44599.0</td>\n",
              "      <td>2014</td>\n",
              "      <td>0</td>\n",
              "      <td>...</td>\n",
              "      <td>0</td>\n",
              "      <td>0</td>\n",
              "      <td>0</td>\n",
              "      <td>0</td>\n",
              "      <td>0</td>\n",
              "      <td>0</td>\n",
              "      <td>0</td>\n",
              "      <td>0</td>\n",
              "      <td>0</td>\n",
              "      <td>0</td>\n",
              "    </tr>\n",
              "    <tr>\n",
              "      <th>2</th>\n",
              "      <td>30.67</td>\n",
              "      <td>26.34</td>\n",
              "      <td>45.9</td>\n",
              "      <td>218.40</td>\n",
              "      <td>80.0</td>\n",
              "      <td>8</td>\n",
              "      <td>29.0</td>\n",
              "      <td>12.0</td>\n",
              "      <td>2014</td>\n",
              "      <td>0</td>\n",
              "      <td>...</td>\n",
              "      <td>0</td>\n",
              "      <td>0</td>\n",
              "      <td>0</td>\n",
              "      <td>0</td>\n",
              "      <td>0</td>\n",
              "      <td>0</td>\n",
              "      <td>0</td>\n",
              "      <td>0</td>\n",
              "      <td>0</td>\n",
              "      <td>0</td>\n",
              "    </tr>\n",
              "    <tr>\n",
              "      <th>3</th>\n",
              "      <td>34.00</td>\n",
              "      <td>32.37</td>\n",
              "      <td>44712.0</td>\n",
              "      <td>179.60</td>\n",
              "      <td>80.0</td>\n",
              "      <td>8</td>\n",
              "      <td>23.0</td>\n",
              "      <td>10.0</td>\n",
              "      <td>2014</td>\n",
              "      <td>0</td>\n",
              "      <td>...</td>\n",
              "      <td>0</td>\n",
              "      <td>0</td>\n",
              "      <td>0</td>\n",
              "      <td>0</td>\n",
              "      <td>0</td>\n",
              "      <td>0</td>\n",
              "      <td>0</td>\n",
              "      <td>0</td>\n",
              "      <td>0</td>\n",
              "      <td>0</td>\n",
              "    </tr>\n",
              "    <tr>\n",
              "      <th>4</th>\n",
              "      <td>31.02</td>\n",
              "      <td>23.35</td>\n",
              "      <td>44762.0</td>\n",
              "      <td>159.88</td>\n",
              "      <td>84.0</td>\n",
              "      <td>12</td>\n",
              "      <td>29.0</td>\n",
              "      <td>12.0</td>\n",
              "      <td>2014</td>\n",
              "      <td>0</td>\n",
              "      <td>...</td>\n",
              "      <td>0</td>\n",
              "      <td>0</td>\n",
              "      <td>0</td>\n",
              "      <td>0</td>\n",
              "      <td>0</td>\n",
              "      <td>0</td>\n",
              "      <td>0</td>\n",
              "      <td>0</td>\n",
              "      <td>0</td>\n",
              "      <td>0</td>\n",
              "    </tr>\n",
              "  </tbody>\n",
              "</table>\n",
              "<p>5 rows × 52 columns</p>\n",
              "</div>\n",
              "      <button class=\"colab-df-convert\" onclick=\"convertToInteractive('df-4a0c3ee1-e474-4281-9ef9-9a97b76b880a')\"\n",
              "              title=\"Convert this dataframe to an interactive table.\"\n",
              "              style=\"display:none;\">\n",
              "        \n",
              "  <svg xmlns=\"http://www.w3.org/2000/svg\" height=\"24px\"viewBox=\"0 0 24 24\"\n",
              "       width=\"24px\">\n",
              "    <path d=\"M0 0h24v24H0V0z\" fill=\"none\"/>\n",
              "    <path d=\"M18.56 5.44l.94 2.06.94-2.06 2.06-.94-2.06-.94-.94-2.06-.94 2.06-2.06.94zm-11 1L8.5 8.5l.94-2.06 2.06-.94-2.06-.94L8.5 2.5l-.94 2.06-2.06.94zm10 10l.94 2.06.94-2.06 2.06-.94-2.06-.94-.94-2.06-.94 2.06-2.06.94z\"/><path d=\"M17.41 7.96l-1.37-1.37c-.4-.4-.92-.59-1.43-.59-.52 0-1.04.2-1.43.59L10.3 9.45l-7.72 7.72c-.78.78-.78 2.05 0 2.83L4 21.41c.39.39.9.59 1.41.59.51 0 1.02-.2 1.41-.59l7.78-7.78 2.81-2.81c.8-.78.8-2.07 0-2.86zM5.41 20L4 18.59l7.72-7.72 1.47 1.35L5.41 20z\"/>\n",
              "  </svg>\n",
              "      </button>\n",
              "      \n",
              "  <style>\n",
              "    .colab-df-container {\n",
              "      display:flex;\n",
              "      flex-wrap:wrap;\n",
              "      gap: 12px;\n",
              "    }\n",
              "\n",
              "    .colab-df-convert {\n",
              "      background-color: #E8F0FE;\n",
              "      border: none;\n",
              "      border-radius: 50%;\n",
              "      cursor: pointer;\n",
              "      display: none;\n",
              "      fill: #1967D2;\n",
              "      height: 32px;\n",
              "      padding: 0 0 0 0;\n",
              "      width: 32px;\n",
              "    }\n",
              "\n",
              "    .colab-df-convert:hover {\n",
              "      background-color: #E2EBFA;\n",
              "      box-shadow: 0px 1px 2px rgba(60, 64, 67, 0.3), 0px 1px 3px 1px rgba(60, 64, 67, 0.15);\n",
              "      fill: #174EA6;\n",
              "    }\n",
              "\n",
              "    [theme=dark] .colab-df-convert {\n",
              "      background-color: #3B4455;\n",
              "      fill: #D2E3FC;\n",
              "    }\n",
              "\n",
              "    [theme=dark] .colab-df-convert:hover {\n",
              "      background-color: #434B5C;\n",
              "      box-shadow: 0px 1px 3px 1px rgba(0, 0, 0, 0.15);\n",
              "      filter: drop-shadow(0px 1px 2px rgba(0, 0, 0, 0.3));\n",
              "      fill: #FFFFFF;\n",
              "    }\n",
              "  </style>\n",
              "\n",
              "      <script>\n",
              "        const buttonEl =\n",
              "          document.querySelector('#df-4a0c3ee1-e474-4281-9ef9-9a97b76b880a button.colab-df-convert');\n",
              "        buttonEl.style.display =\n",
              "          google.colab.kernel.accessAllowed ? 'block' : 'none';\n",
              "\n",
              "        async function convertToInteractive(key) {\n",
              "          const element = document.querySelector('#df-4a0c3ee1-e474-4281-9ef9-9a97b76b880a');\n",
              "          const dataTable =\n",
              "            await google.colab.kernel.invokeFunction('convertToInteractive',\n",
              "                                                     [key], {});\n",
              "          if (!dataTable) return;\n",
              "\n",
              "          const docLinkHtml = 'Like what you see? Visit the ' +\n",
              "            '<a target=\"_blank\" href=https://colab.research.google.com/notebooks/data_table.ipynb>data table notebook</a>'\n",
              "            + ' to learn more about interactive tables.';\n",
              "          element.innerHTML = '';\n",
              "          dataTable['output_type'] = 'display_data';\n",
              "          await google.colab.output.renderOutput(dataTable, element);\n",
              "          const docLink = document.createElement('div');\n",
              "          docLink.innerHTML = docLinkHtml;\n",
              "          element.appendChild(docLink);\n",
              "        }\n",
              "      </script>\n",
              "    </div>\n",
              "  </div>\n",
              "  "
            ]
          },
          "metadata": {},
          "execution_count": 8
        }
      ]
    },
    {
      "cell_type": "code",
      "source": [
        "#HotEncoding en la variable año\t\n",
        "dummy_año\t= pd.get_dummies(Bd[\"año\"], prefix = \"año\")\n",
        "dummy_año.head()\n",
        "\n",
        "#Agregar el HotEncoding de mes a la BD\n",
        "Bd = Bd.drop([\"año\"], axis = 1)\n",
        "Bd = pd.concat([Bd,dummy_año], axis = 1)\n",
        "Bd.head()"
      ],
      "metadata": {
        "colab": {
          "base_uri": "https://localhost:8080/",
          "height": 236
        },
        "id": "A-9jD8mlYXLm",
        "outputId": "eaeeb802-bf02-4a35-d37d-d521bc95f256"
      },
      "execution_count": null,
      "outputs": [
        {
          "output_type": "execute_result",
          "data": {
            "text/plain": [
              "   M01AB  M01AE    N02BA   N02BE  N05B  N05C   R03      R06  dia_1  dia_2  \\\n",
              "0  14.00  11.67  44641.0  185.95  41.0     0  32.0      7.0      0      0   \n",
              "1  29.33  12.68     37.9  190.70  88.0     5  21.0  44599.0      0      0   \n",
              "2  30.67  26.34     45.9  218.40  80.0     8  29.0     12.0      0      0   \n",
              "3  34.00  32.37  44712.0  179.60  80.0     8  23.0     10.0      0      0   \n",
              "4  31.02  23.35  44762.0  159.88  84.0    12  29.0     12.0      0      1   \n",
              "\n",
              "   ...  mes_9  mes_10  mes_11  mes_12  año_2014  año_2015  año_2016  año_2017  \\\n",
              "0  ...      0       0       0       0         1         0         0         0   \n",
              "1  ...      0       0       0       0         1         0         0         0   \n",
              "2  ...      0       0       0       0         1         0         0         0   \n",
              "3  ...      0       0       0       0         1         0         0         0   \n",
              "4  ...      0       0       0       0         1         0         0         0   \n",
              "\n",
              "   año_2018  año_2019  \n",
              "0         0         0  \n",
              "1         0         0  \n",
              "2         0         0  \n",
              "3         0         0  \n",
              "4         0         0  \n",
              "\n",
              "[5 rows x 57 columns]"
            ],
            "text/html": [
              "\n",
              "  <div id=\"df-1e9ccdee-853f-4f76-a69b-0db0bcdbe7cc\">\n",
              "    <div class=\"colab-df-container\">\n",
              "      <div>\n",
              "<style scoped>\n",
              "    .dataframe tbody tr th:only-of-type {\n",
              "        vertical-align: middle;\n",
              "    }\n",
              "\n",
              "    .dataframe tbody tr th {\n",
              "        vertical-align: top;\n",
              "    }\n",
              "\n",
              "    .dataframe thead th {\n",
              "        text-align: right;\n",
              "    }\n",
              "</style>\n",
              "<table border=\"1\" class=\"dataframe\">\n",
              "  <thead>\n",
              "    <tr style=\"text-align: right;\">\n",
              "      <th></th>\n",
              "      <th>M01AB</th>\n",
              "      <th>M01AE</th>\n",
              "      <th>N02BA</th>\n",
              "      <th>N02BE</th>\n",
              "      <th>N05B</th>\n",
              "      <th>N05C</th>\n",
              "      <th>R03</th>\n",
              "      <th>R06</th>\n",
              "      <th>dia_1</th>\n",
              "      <th>dia_2</th>\n",
              "      <th>...</th>\n",
              "      <th>mes_9</th>\n",
              "      <th>mes_10</th>\n",
              "      <th>mes_11</th>\n",
              "      <th>mes_12</th>\n",
              "      <th>año_2014</th>\n",
              "      <th>año_2015</th>\n",
              "      <th>año_2016</th>\n",
              "      <th>año_2017</th>\n",
              "      <th>año_2018</th>\n",
              "      <th>año_2019</th>\n",
              "    </tr>\n",
              "  </thead>\n",
              "  <tbody>\n",
              "    <tr>\n",
              "      <th>0</th>\n",
              "      <td>14.00</td>\n",
              "      <td>11.67</td>\n",
              "      <td>44641.0</td>\n",
              "      <td>185.95</td>\n",
              "      <td>41.0</td>\n",
              "      <td>0</td>\n",
              "      <td>32.0</td>\n",
              "      <td>7.0</td>\n",
              "      <td>0</td>\n",
              "      <td>0</td>\n",
              "      <td>...</td>\n",
              "      <td>0</td>\n",
              "      <td>0</td>\n",
              "      <td>0</td>\n",
              "      <td>0</td>\n",
              "      <td>1</td>\n",
              "      <td>0</td>\n",
              "      <td>0</td>\n",
              "      <td>0</td>\n",
              "      <td>0</td>\n",
              "      <td>0</td>\n",
              "    </tr>\n",
              "    <tr>\n",
              "      <th>1</th>\n",
              "      <td>29.33</td>\n",
              "      <td>12.68</td>\n",
              "      <td>37.9</td>\n",
              "      <td>190.70</td>\n",
              "      <td>88.0</td>\n",
              "      <td>5</td>\n",
              "      <td>21.0</td>\n",
              "      <td>44599.0</td>\n",
              "      <td>0</td>\n",
              "      <td>0</td>\n",
              "      <td>...</td>\n",
              "      <td>0</td>\n",
              "      <td>0</td>\n",
              "      <td>0</td>\n",
              "      <td>0</td>\n",
              "      <td>1</td>\n",
              "      <td>0</td>\n",
              "      <td>0</td>\n",
              "      <td>0</td>\n",
              "      <td>0</td>\n",
              "      <td>0</td>\n",
              "    </tr>\n",
              "    <tr>\n",
              "      <th>2</th>\n",
              "      <td>30.67</td>\n",
              "      <td>26.34</td>\n",
              "      <td>45.9</td>\n",
              "      <td>218.40</td>\n",
              "      <td>80.0</td>\n",
              "      <td>8</td>\n",
              "      <td>29.0</td>\n",
              "      <td>12.0</td>\n",
              "      <td>0</td>\n",
              "      <td>0</td>\n",
              "      <td>...</td>\n",
              "      <td>0</td>\n",
              "      <td>0</td>\n",
              "      <td>0</td>\n",
              "      <td>0</td>\n",
              "      <td>1</td>\n",
              "      <td>0</td>\n",
              "      <td>0</td>\n",
              "      <td>0</td>\n",
              "      <td>0</td>\n",
              "      <td>0</td>\n",
              "    </tr>\n",
              "    <tr>\n",
              "      <th>3</th>\n",
              "      <td>34.00</td>\n",
              "      <td>32.37</td>\n",
              "      <td>44712.0</td>\n",
              "      <td>179.60</td>\n",
              "      <td>80.0</td>\n",
              "      <td>8</td>\n",
              "      <td>23.0</td>\n",
              "      <td>10.0</td>\n",
              "      <td>0</td>\n",
              "      <td>0</td>\n",
              "      <td>...</td>\n",
              "      <td>0</td>\n",
              "      <td>0</td>\n",
              "      <td>0</td>\n",
              "      <td>0</td>\n",
              "      <td>1</td>\n",
              "      <td>0</td>\n",
              "      <td>0</td>\n",
              "      <td>0</td>\n",
              "      <td>0</td>\n",
              "      <td>0</td>\n",
              "    </tr>\n",
              "    <tr>\n",
              "      <th>4</th>\n",
              "      <td>31.02</td>\n",
              "      <td>23.35</td>\n",
              "      <td>44762.0</td>\n",
              "      <td>159.88</td>\n",
              "      <td>84.0</td>\n",
              "      <td>12</td>\n",
              "      <td>29.0</td>\n",
              "      <td>12.0</td>\n",
              "      <td>0</td>\n",
              "      <td>1</td>\n",
              "      <td>...</td>\n",
              "      <td>0</td>\n",
              "      <td>0</td>\n",
              "      <td>0</td>\n",
              "      <td>0</td>\n",
              "      <td>1</td>\n",
              "      <td>0</td>\n",
              "      <td>0</td>\n",
              "      <td>0</td>\n",
              "      <td>0</td>\n",
              "      <td>0</td>\n",
              "    </tr>\n",
              "  </tbody>\n",
              "</table>\n",
              "<p>5 rows × 57 columns</p>\n",
              "</div>\n",
              "      <button class=\"colab-df-convert\" onclick=\"convertToInteractive('df-1e9ccdee-853f-4f76-a69b-0db0bcdbe7cc')\"\n",
              "              title=\"Convert this dataframe to an interactive table.\"\n",
              "              style=\"display:none;\">\n",
              "        \n",
              "  <svg xmlns=\"http://www.w3.org/2000/svg\" height=\"24px\"viewBox=\"0 0 24 24\"\n",
              "       width=\"24px\">\n",
              "    <path d=\"M0 0h24v24H0V0z\" fill=\"none\"/>\n",
              "    <path d=\"M18.56 5.44l.94 2.06.94-2.06 2.06-.94-2.06-.94-.94-2.06-.94 2.06-2.06.94zm-11 1L8.5 8.5l.94-2.06 2.06-.94-2.06-.94L8.5 2.5l-.94 2.06-2.06.94zm10 10l.94 2.06.94-2.06 2.06-.94-2.06-.94-.94-2.06-.94 2.06-2.06.94z\"/><path d=\"M17.41 7.96l-1.37-1.37c-.4-.4-.92-.59-1.43-.59-.52 0-1.04.2-1.43.59L10.3 9.45l-7.72 7.72c-.78.78-.78 2.05 0 2.83L4 21.41c.39.39.9.59 1.41.59.51 0 1.02-.2 1.41-.59l7.78-7.78 2.81-2.81c.8-.78.8-2.07 0-2.86zM5.41 20L4 18.59l7.72-7.72 1.47 1.35L5.41 20z\"/>\n",
              "  </svg>\n",
              "      </button>\n",
              "      \n",
              "  <style>\n",
              "    .colab-df-container {\n",
              "      display:flex;\n",
              "      flex-wrap:wrap;\n",
              "      gap: 12px;\n",
              "    }\n",
              "\n",
              "    .colab-df-convert {\n",
              "      background-color: #E8F0FE;\n",
              "      border: none;\n",
              "      border-radius: 50%;\n",
              "      cursor: pointer;\n",
              "      display: none;\n",
              "      fill: #1967D2;\n",
              "      height: 32px;\n",
              "      padding: 0 0 0 0;\n",
              "      width: 32px;\n",
              "    }\n",
              "\n",
              "    .colab-df-convert:hover {\n",
              "      background-color: #E2EBFA;\n",
              "      box-shadow: 0px 1px 2px rgba(60, 64, 67, 0.3), 0px 1px 3px 1px rgba(60, 64, 67, 0.15);\n",
              "      fill: #174EA6;\n",
              "    }\n",
              "\n",
              "    [theme=dark] .colab-df-convert {\n",
              "      background-color: #3B4455;\n",
              "      fill: #D2E3FC;\n",
              "    }\n",
              "\n",
              "    [theme=dark] .colab-df-convert:hover {\n",
              "      background-color: #434B5C;\n",
              "      box-shadow: 0px 1px 3px 1px rgba(0, 0, 0, 0.15);\n",
              "      filter: drop-shadow(0px 1px 2px rgba(0, 0, 0, 0.3));\n",
              "      fill: #FFFFFF;\n",
              "    }\n",
              "  </style>\n",
              "\n",
              "      <script>\n",
              "        const buttonEl =\n",
              "          document.querySelector('#df-1e9ccdee-853f-4f76-a69b-0db0bcdbe7cc button.colab-df-convert');\n",
              "        buttonEl.style.display =\n",
              "          google.colab.kernel.accessAllowed ? 'block' : 'none';\n",
              "\n",
              "        async function convertToInteractive(key) {\n",
              "          const element = document.querySelector('#df-1e9ccdee-853f-4f76-a69b-0db0bcdbe7cc');\n",
              "          const dataTable =\n",
              "            await google.colab.kernel.invokeFunction('convertToInteractive',\n",
              "                                                     [key], {});\n",
              "          if (!dataTable) return;\n",
              "\n",
              "          const docLinkHtml = 'Like what you see? Visit the ' +\n",
              "            '<a target=\"_blank\" href=https://colab.research.google.com/notebooks/data_table.ipynb>data table notebook</a>'\n",
              "            + ' to learn more about interactive tables.';\n",
              "          element.innerHTML = '';\n",
              "          dataTable['output_type'] = 'display_data';\n",
              "          await google.colab.output.renderOutput(dataTable, element);\n",
              "          const docLink = document.createElement('div');\n",
              "          docLink.innerHTML = docLinkHtml;\n",
              "          element.appendChild(docLink);\n",
              "        }\n",
              "      </script>\n",
              "    </div>\n",
              "  </div>\n",
              "  "
            ]
          },
          "metadata": {},
          "execution_count": 9
        }
      ]
    },
    {
      "cell_type": "markdown",
      "source": [
        "VALIDACIÓN DE DATOS\n",
        "\n",
        "Generalmente, cuando trabajemos con algoritmos de clustering, dado que son algoritmos basados en distancias, va a ser fundamental escalar los datos para prescindir de las unidades de medida de las diferentes features. A continuación, escalamos los datos numéricos:"
      ],
      "metadata": {
        "id": "KU6nvdyvYeMt"
      }
    },
    {
      "cell_type": "code",
      "source": [
        "from sklearn.preprocessing import scale, MinMaxScaler\n",
        "\n",
        "# scale\n",
        "scaled_1 = scale(Bd)\n",
        "\n",
        "# MinMaxScaler\n",
        "scaler = MinMaxScaler()\n",
        "scaled_2 = scaler.fit_transform(Bd)\n",
        "\n",
        "# Muestro las primeras 5 filas escaladas con scale\n",
        "print(\"Escalado con scale:\")\n",
        "print(scaled_1[1:6,])\n",
        "\n",
        "# Muestro las primeras 5 filas escaladas con Min-Max\n",
        "print(\"\\nEscalado con Min-Max:\")\n",
        "print(scaled_2[1:6,])"
      ],
      "metadata": {
        "colab": {
          "base_uri": "https://localhost:8080/"
        },
        "id": "lvQALsndYrEN",
        "outputId": "78c61623-9a01-4642-d570-95943423906a"
      },
      "execution_count": null,
      "outputs": [
        {
          "output_type": "stream",
          "name": "stdout",
          "text": [
            "Escalado con scale:\n",
            "[[-0.1290126  -0.11714484 -0.11474584 -0.13808053 -0.14358482 -0.1240713\n",
            "  -0.13934711 -0.12899733 -0.1850583  -0.1850583  -0.1850583  -0.1850583\n",
            "  -0.1850583  -0.1850583  -0.1850583  -0.1850583  -0.1850583  -0.1850583\n",
            "  -0.1850583   5.40370243 -0.1850583  -0.1850583  -0.1850583  -0.1850583\n",
            "  -0.1850583  -0.1850583  -0.1850583  -0.17526187 -0.1850583  -0.1850583\n",
            "  -0.1850583  -0.1850583  -0.1850583  -0.1850583  -0.17526187 -0.1850583\n",
            "  -0.17526187 -0.17526187 -0.1423737   3.25812594 -0.29382126 -0.31333978\n",
            "  -0.30692491 -0.30692491 -0.30692491 -0.31333978 -0.30692491 -0.30692491\n",
            "  -0.29382126 -0.28030596 -0.28030596  2.19264505 -0.45607017 -0.45607017\n",
            "  -0.46135822 -0.45607017 -0.39634344]\n",
            " [-0.1290126  -0.1171448  -0.11474582 -0.13808046 -0.14358482 -0.1240713\n",
            "  -0.1393471  -0.12924675 -0.1850583  -0.1850583  -0.1850583  -0.1850583\n",
            "  -0.1850583  -0.1850583  -0.1850583  -0.1850583  -0.1850583  -0.1850583\n",
            "  -0.1850583  -0.1850583  -0.1850583  -0.1850583  -0.1850583  -0.1850583\n",
            "  -0.1850583  -0.1850583   5.40370243 -0.17526187 -0.1850583  -0.1850583\n",
            "  -0.1850583  -0.1850583  -0.1850583  -0.1850583  -0.17526187 -0.1850583\n",
            "  -0.17526187 -0.17526187 -0.1423737   3.25812594 -0.29382126 -0.31333978\n",
            "  -0.30692491 -0.30692491 -0.30692491 -0.31333978 -0.30692491 -0.30692491\n",
            "  -0.29382126 -0.28030596 -0.28030596  2.19264505 -0.45607017 -0.45607017\n",
            "  -0.46135822 -0.45607017 -0.39634344]\n",
            " [-0.12901259 -0.11714479 -0.11464301 -0.13808056 -0.14358482 -0.1240713\n",
            "  -0.13934711 -0.12924676 -0.1850583  -0.1850583  -0.1850583  -0.1850583\n",
            "  -0.1850583  -0.1850583  -0.1850583  -0.1850583  -0.1850583  -0.1850583\n",
            "  -0.1850583  -0.1850583  -0.1850583  -0.1850583  -0.1850583  -0.1850583\n",
            "  -0.1850583  -0.1850583  -0.1850583  -0.17526187 -0.1850583  -0.1850583\n",
            "  -0.1850583  -0.1850583  -0.1850583   5.40370243 -0.17526187 -0.1850583\n",
            "  -0.17526187 -0.17526187 -0.1423737   3.25812594 -0.29382126 -0.31333978\n",
            "  -0.30692491 -0.30692491 -0.30692491 -0.31333978 -0.30692491 -0.30692491\n",
            "  -0.29382126 -0.28030596 -0.28030596  2.19264505 -0.45607017 -0.45607017\n",
            "  -0.46135822 -0.45607017 -0.39634344]\n",
            " [-0.1290126  -0.11714481 -0.11464289 -0.13808061 -0.14358482 -0.1240713\n",
            "  -0.1393471  -0.12924675 -0.1850583   5.40370243 -0.1850583  -0.1850583\n",
            "  -0.1850583  -0.1850583  -0.1850583  -0.1850583  -0.1850583  -0.1850583\n",
            "  -0.1850583  -0.1850583  -0.1850583  -0.1850583  -0.1850583  -0.1850583\n",
            "  -0.1850583  -0.1850583  -0.1850583  -0.17526187 -0.1850583  -0.1850583\n",
            "  -0.1850583  -0.1850583  -0.1850583  -0.1850583  -0.17526187 -0.1850583\n",
            "  -0.17526187 -0.17526187 -0.1423737  -0.30692491  3.40342964 -0.31333978\n",
            "  -0.30692491 -0.30692491 -0.30692491 -0.31333978 -0.30692491 -0.30692491\n",
            "  -0.29382126 -0.28030596 -0.28030596  2.19264505 -0.45607017 -0.45607017\n",
            "  -0.46135822 -0.45607017 -0.39634344]\n",
            " [-0.12901261 -0.1171448  -0.1147458  -0.13808043 -0.14358481 -0.1240713\n",
            "  -0.13934709 -0.12924678 -0.1850583  -0.1850583  -0.1850583  -0.1850583\n",
            "  -0.1850583  -0.1850583  -0.1850583  -0.1850583   5.40370243 -0.1850583\n",
            "  -0.1850583  -0.1850583  -0.1850583  -0.1850583  -0.1850583  -0.1850583\n",
            "  -0.1850583  -0.1850583  -0.1850583  -0.17526187 -0.1850583  -0.1850583\n",
            "  -0.1850583  -0.1850583  -0.1850583  -0.1850583  -0.17526187 -0.1850583\n",
            "  -0.17526187 -0.17526187 -0.1423737  -0.30692491  3.40342964 -0.31333978\n",
            "  -0.30692491 -0.30692491 -0.30692491 -0.31333978 -0.30692491 -0.30692491\n",
            "  -0.29382126 -0.28030596 -0.28030596  2.19264505 -0.45607017 -0.45607017\n",
            "  -0.46135822 -0.45607017 -0.39634344]]\n",
            "\n",
            "Escalado con Min-Max:\n",
            "[[4.44345671e-09 1.17167471e-09 6.20689657e-09 2.83462437e-08\n",
            "  7.92452832e-09 5.21739130e-10 3.09993202e-09 2.81671579e-05\n",
            "  0.00000000e+00 0.00000000e+00 0.00000000e+00 0.00000000e+00\n",
            "  0.00000000e+00 0.00000000e+00 0.00000000e+00 0.00000000e+00\n",
            "  0.00000000e+00 0.00000000e+00 0.00000000e+00 1.00000000e+00\n",
            "  0.00000000e+00 0.00000000e+00 0.00000000e+00 0.00000000e+00\n",
            "  0.00000000e+00 0.00000000e+00 0.00000000e+00 0.00000000e+00\n",
            "  0.00000000e+00 0.00000000e+00 0.00000000e+00 0.00000000e+00\n",
            "  0.00000000e+00 0.00000000e+00 0.00000000e+00 0.00000000e+00\n",
            "  0.00000000e+00 0.00000000e+00 0.00000000e+00 1.00000000e+00\n",
            "  0.00000000e+00 0.00000000e+00 0.00000000e+00 0.00000000e+00\n",
            "  0.00000000e+00 0.00000000e+00 0.00000000e+00 0.00000000e+00\n",
            "  0.00000000e+00 0.00000000e+00 0.00000000e+00 1.00000000e+00\n",
            "  0.00000000e+00 0.00000000e+00 0.00000000e+00 0.00000000e+00\n",
            "  0.00000000e+00]\n",
            " [4.71835200e-09 4.39201203e-09 7.99627215e-09 3.58636295e-08\n",
            "  7.01886794e-09 8.34782609e-10 4.40516655e-09 6.94736843e-09\n",
            "  0.00000000e+00 0.00000000e+00 0.00000000e+00 0.00000000e+00\n",
            "  0.00000000e+00 0.00000000e+00 0.00000000e+00 0.00000000e+00\n",
            "  0.00000000e+00 0.00000000e+00 0.00000000e+00 0.00000000e+00\n",
            "  0.00000000e+00 0.00000000e+00 0.00000000e+00 0.00000000e+00\n",
            "  0.00000000e+00 0.00000000e+00 1.00000000e+00 0.00000000e+00\n",
            "  0.00000000e+00 0.00000000e+00 0.00000000e+00 0.00000000e+00\n",
            "  0.00000000e+00 0.00000000e+00 0.00000000e+00 0.00000000e+00\n",
            "  0.00000000e+00 0.00000000e+00 0.00000000e+00 1.00000000e+00\n",
            "  0.00000000e+00 0.00000000e+00 0.00000000e+00 0.00000000e+00\n",
            "  0.00000000e+00 0.00000000e+00 0.00000000e+00 0.00000000e+00\n",
            "  0.00000000e+00 0.00000000e+00 0.00000000e+00 1.00000000e+00\n",
            "  0.00000000e+00 0.00000000e+00 0.00000000e+00 0.00000000e+00\n",
            "  0.00000000e+00]\n",
            " [5.40148732e-09 5.81358114e-09 9.99854988e-06 2.53338616e-08\n",
            "  7.01886794e-09 8.34782609e-10 3.42624065e-09 5.68421053e-09\n",
            "  0.00000000e+00 0.00000000e+00 0.00000000e+00 0.00000000e+00\n",
            "  0.00000000e+00 0.00000000e+00 0.00000000e+00 0.00000000e+00\n",
            "  0.00000000e+00 0.00000000e+00 0.00000000e+00 0.00000000e+00\n",
            "  0.00000000e+00 0.00000000e+00 0.00000000e+00 0.00000000e+00\n",
            "  0.00000000e+00 0.00000000e+00 0.00000000e+00 0.00000000e+00\n",
            "  0.00000000e+00 0.00000000e+00 0.00000000e+00 0.00000000e+00\n",
            "  0.00000000e+00 1.00000000e+00 0.00000000e+00 0.00000000e+00\n",
            "  0.00000000e+00 0.00000000e+00 0.00000000e+00 1.00000000e+00\n",
            "  0.00000000e+00 0.00000000e+00 0.00000000e+00 0.00000000e+00\n",
            "  0.00000000e+00 0.00000000e+00 0.00000000e+00 0.00000000e+00\n",
            "  0.00000000e+00 0.00000000e+00 0.00000000e+00 1.00000000e+00\n",
            "  0.00000000e+00 0.00000000e+00 0.00000000e+00 0.00000000e+00\n",
            "  0.00000000e+00]\n",
            " [4.79015301e-09 3.68712121e-09 1.00097335e-05 1.99821342e-08\n",
            "  7.47169813e-09 1.25217391e-09 4.40516655e-09 6.94736843e-09\n",
            "  0.00000000e+00 1.00000000e+00 0.00000000e+00 0.00000000e+00\n",
            "  0.00000000e+00 0.00000000e+00 0.00000000e+00 0.00000000e+00\n",
            "  0.00000000e+00 0.00000000e+00 0.00000000e+00 0.00000000e+00\n",
            "  0.00000000e+00 0.00000000e+00 0.00000000e+00 0.00000000e+00\n",
            "  0.00000000e+00 0.00000000e+00 0.00000000e+00 0.00000000e+00\n",
            "  0.00000000e+00 0.00000000e+00 0.00000000e+00 0.00000000e+00\n",
            "  0.00000000e+00 0.00000000e+00 0.00000000e+00 0.00000000e+00\n",
            "  0.00000000e+00 0.00000000e+00 0.00000000e+00 0.00000000e+00\n",
            "  1.00000000e+00 0.00000000e+00 0.00000000e+00 0.00000000e+00\n",
            "  0.00000000e+00 0.00000000e+00 0.00000000e+00 0.00000000e+00\n",
            "  0.00000000e+00 0.00000000e+00 0.00000000e+00 1.00000000e+00\n",
            "  0.00000000e+00 0.00000000e+00 0.00000000e+00 0.00000000e+00\n",
            "  0.00000000e+00]\n",
            " [3.07308317e-09 5.18884513e-09 9.65144457e-09 3.81432700e-08\n",
            "  9.05660379e-09 7.30434783e-10 4.73147519e-09 3.15789474e-09\n",
            "  0.00000000e+00 0.00000000e+00 0.00000000e+00 0.00000000e+00\n",
            "  0.00000000e+00 0.00000000e+00 0.00000000e+00 0.00000000e+00\n",
            "  1.00000000e+00 0.00000000e+00 0.00000000e+00 0.00000000e+00\n",
            "  0.00000000e+00 0.00000000e+00 0.00000000e+00 0.00000000e+00\n",
            "  0.00000000e+00 0.00000000e+00 0.00000000e+00 0.00000000e+00\n",
            "  0.00000000e+00 0.00000000e+00 0.00000000e+00 0.00000000e+00\n",
            "  0.00000000e+00 0.00000000e+00 0.00000000e+00 0.00000000e+00\n",
            "  0.00000000e+00 0.00000000e+00 0.00000000e+00 0.00000000e+00\n",
            "  1.00000000e+00 0.00000000e+00 0.00000000e+00 0.00000000e+00\n",
            "  0.00000000e+00 0.00000000e+00 0.00000000e+00 0.00000000e+00\n",
            "  0.00000000e+00 0.00000000e+00 0.00000000e+00 1.00000000e+00\n",
            "  0.00000000e+00 0.00000000e+00 0.00000000e+00 0.00000000e+00\n",
            "  0.00000000e+00]]\n"
          ]
        },
        {
          "output_type": "stream",
          "name": "stderr",
          "text": [
            "/usr/local/lib/python3.7/dist-packages/sklearn/preprocessing/_data.py:236: UserWarning: Numerical issues were encountered when centering the data and might not be solved. Dataset may contain too large values. You may need to prescale your features.\n",
            "  \"Numerical issues were encountered \"\n"
          ]
        }
      ]
    },
    {
      "cell_type": "markdown",
      "source": [
        "ALGORITMO K-MEANS"
      ],
      "metadata": {
        "id": "ynlZHxe5Y-uW"
      }
    },
    {
      "cell_type": "code",
      "source": [
        "from sklearn.cluster import KMeans\n",
        "\n",
        "km = KMeans(\n",
        "    n_clusters=4, init='random',\n",
        "    n_init=6, random_state=0\n",
        ")"
      ],
      "metadata": {
        "id": "_Zh6Gvd8YwLt"
      },
      "execution_count": null,
      "outputs": []
    },
    {
      "cell_type": "code",
      "source": [
        "y_km = km.fit_predict(scaled_1)"
      ],
      "metadata": {
        "id": "h5sp-BLTY0_Y"
      },
      "execution_count": null,
      "outputs": []
    },
    {
      "cell_type": "code",
      "source": [
        "print(y_km)"
      ],
      "metadata": {
        "colab": {
          "base_uri": "https://localhost:8080/"
        },
        "id": "QTyau3bjY9Qv",
        "outputId": "e94a26d4-5f6a-4598-c608-72a1fd7576cf"
      },
      "execution_count": null,
      "outputs": [
        {
          "output_type": "stream",
          "name": "stdout",
          "text": [
            "[0 0 0 0 1 1 1 1 0 0 1 0 0 0 0 0 0 0 0 0 0 0 0 0 0 0 0 0 0 0 0 0 0 0 0 0 0\n",
            " 0 0 0 0 0 0 0 0 1 0 0 0 0 0 0 2 2 2 2 1 1 1 1 2 2 2 2 2 2 2 2 2 2 0 2 2 2\n",
            " 2 2 2 2 2 2 2 2 2 2 1 2 2 2 2 2 2 2 2 2 2 2 2 2 2 2 2 2 2 2 2 0 2 2 2 1 1\n",
            " 1 1 2 2 2 2 2 0 2 2 2 2 2 2 2 2 2 2 2 2 0 2 2 2 2 2 2 2 2 2 2 2 2 2 1 2 2\n",
            " 2 2 2 2 2 2 2 2 2 3 3 3 3 3 1 1 1 2 2 2 2 2 2 1 2 2 2 2 2 2 2 2 2 2 2 2 1\n",
            " 2 2 2 2 2 2 2 0 2 2 2 2 2 2 2 2 2 2 2 2 0 2 2 2 2 2 2 2 1 1 1 1 2 2 2 2 2\n",
            " 2 2 2 2 2 2 2 2 2 0 2 2 2 2 2 2 2 2 2 2 2 2 2 1 2 2 2 2 2 2 2 2 2 2 2 2 1\n",
            " 2 2 2 2 2 2 1 1 1 1 2 0 2 2 2 2 2 2 2 2 2 2 2 2 2 1 2 2 2 2 2 2 2 2 2 2 2\n",
            " 2 2 2 2 2 2]\n"
          ]
        }
      ]
    },
    {
      "cell_type": "markdown",
      "source": [
        "GRAFICAR\n",
        "\n",
        "Para graficar los clústeres, utilizamos Matplotlib. La mejor forma de ver como se comportan los datos es con un gráfico de dispersión (scatter)"
      ],
      "metadata": {
        "id": "dt8IAHulZHN0"
      }
    },
    {
      "cell_type": "code",
      "source": [
        "import matplotlib.pyplot as plt\n",
        "\n",
        "#configuro el tamaño del grafico final\n",
        "plt.figure(figsize=(22,13))\n",
        "\n",
        "#scatter del primer cluster\n",
        "plt.scatter(\n",
        "    scaled_1[y_km == 2, 0], scaled_1[y_km == 2, 3],\n",
        "    s=50, c='lightgreen',\n",
        "    marker='s', edgecolor='black',\n",
        "    label='cluster 1'\n",
        ")\n",
        "#scatter del segundo cluster\n",
        "plt.scatter(\n",
        "    scaled_1[y_km == 1, 6], scaled_1[y_km == 1, 2],\n",
        "    s=50, c='orange',\n",
        "    marker='o', edgecolor='black',\n",
        "    label='cluster 2'\n",
        ")\n",
        "#scatter del tercer cluster\n",
        "plt.scatter(\n",
        "    scaled_1[y_km == 4, 7], scaled_1[y_km == 4, 7],\n",
        "    s=50, c='lightblue',\n",
        "    marker='v', edgecolor='black',\n",
        "    label='cluster 3'\n",
        ")\n",
        "#scatter del cuarto cluster\n",
        "plt.scatter(\n",
        "    scaled_1[y_km == 3, 5], scaled_1[y_km == 3, 6],\n",
        "    s=50, c='green',\n",
        "    marker='o', edgecolor='black',\n",
        "    label='cluster 4'\n",
        ")\n",
        "#scatter del quinto cluster\n",
        "plt.scatter(\n",
        "    scaled_1[y_km == 1, 3], scaled_1[y_km == 1, 4],\n",
        "    s=50, c='red',\n",
        "    marker='o', edgecolor='black',\n",
        "    label='cluster 5'\n",
        ")\n",
        "#scatter del sexto cluster\n",
        "plt.scatter(\n",
        "    scaled_1[y_km == 4, 6], scaled_1[y_km == 4, 6],\n",
        "    s=50, c='purple',\n",
        "    marker='o', edgecolor='black',\n",
        "    label='cluster 6'\n",
        ")\n",
        "\n",
        "#scatter del septimo cluster\n",
        "plt.scatter(\n",
        "    scaled_1[y_km == 6, 4], scaled_1[y_km == 4, 6],\n",
        "    s=50, c='purple',\n",
        "    marker='o', edgecolor='black',\n",
        "    label='cluster 7'\n",
        ")\n",
        "\n",
        "#scatter del sexto cluster\n",
        "plt.scatter(\n",
        "    scaled_1[y_km == 6, 1], scaled_1[y_km == 5, 6],\n",
        "    s=50, c='purple',\n",
        "    marker='o', edgecolor='black',\n",
        "    label='cluster 8'\n",
        ")\n",
        "\n",
        "\n",
        "#scatter del los centroides\n",
        "plt.scatter(\n",
        "    km.cluster_centers_[:, 0], km.cluster_centers_[:, 1],\n",
        "    s=250, marker='*',\n",
        "    c='red', edgecolor='black',\n",
        "    label='centroides'\n",
        ")\n",
        "#le pongo la leyenda\n",
        "plt.legend(scatterpoints=1)\n",
        "#hace una grilla en el grafico\n",
        "plt.grid()\n",
        "#lo imprime en pantalla\n",
        "plt.show()"
      ],
      "metadata": {
        "colab": {
          "base_uri": "https://localhost:8080/",
          "height": 755
        },
        "id": "v3nBCXFkZLjm",
        "outputId": "c44d991d-68f5-4817-914c-5c9db5c1157e"
      },
      "execution_count": null,
      "outputs": [
        {
          "output_type": "display_data",
          "data": {
            "text/plain": [
              "<Figure size 1584x936 with 1 Axes>"
            ],
            "image/png": "[encoded data removed]"
          },
          "metadata": {
            "needs_background": "light"
          }
        }
      ]
    },
    {
      "cell_type": "markdown",
      "source": [
        "MÉTRICAS DE EVALUACIÓN\n",
        "\n",
        "\n",
        "El método de Elbow consiste básicamente en verificar la evolución de la suma de los cuadrados del error para varios valores de K y verificar cual es el que brinda un mejor agrupamiento."
      ],
      "metadata": {
        "id": "XRCGueMIZfez"
      }
    },
    {
      "cell_type": "code",
      "source": [
        "# Se corre el algoritmo con K entre 2 y 10 y se va guardando el error para luego graficarlo.\n",
        "sse = []\n",
        "list_k = list(range(1, 10))\n",
        "\n",
        "for k in list_k:\n",
        "    km = KMeans(n_clusters=k)\n",
        "    km.fit(scaled_1)\n",
        "    sse.append(km.inertia_)\n",
        "\n",
        "# Grafico el SSE por K\n",
        "plt.figure(figsize=(6, 6))\n",
        "plt.plot(list_k, sse, '-o')\n",
        "plt.xlabel(r'Cantidad de clusters *k*')\n",
        "plt.ylabel('SSE');"
      ],
      "metadata": {
        "colab": {
          "base_uri": "https://localhost:8080/",
          "height": 388
        },
        "id": "JfPzdeo-ZkyD",
        "outputId": "92ead79c-e300-4ba0-cfc5-858fec7f7969"
      },
      "execution_count": null,
      "outputs": [
        {
          "output_type": "display_data",
          "data": {
            "text/plain": [
              "<Figure size 432x432 with 1 Axes>"
            ],
            "image/png": "[encoded data removed]"
          },
          "metadata": {
            "needs_background": "light"
          }
        }
      ]
    },
    {
      "cell_type": "code",
      "source": [
        "clases = km.labels_"
      ],
      "metadata": {
        "id": "mgortub_Z1S_"
      },
      "execution_count": null,
      "outputs": []
    },
    {
      "cell_type": "code",
      "source": [
        "clases.shape"
      ],
      "metadata": {
        "colab": {
          "base_uri": "https://localhost:8080/"
        },
        "id": "vMs4PhwyZ9kp",
        "outputId": "f9989dd5-eddf-4d95-e4f8-ddc85c3783af"
      },
      "execution_count": null,
      "outputs": [
        {
          "output_type": "execute_result",
          "data": {
            "text/plain": [
              "(302,)"
            ]
          },
          "metadata": {},
          "execution_count": 17
        }
      ]
    },
    {
      "cell_type": "code",
      "source": [
        "print(clases)"
      ],
      "metadata": {
        "colab": {
          "base_uri": "https://localhost:8080/"
        },
        "id": "X6BKIFlhaAjm",
        "outputId": "1757cdbe-649c-4da9-acdc-6dd5f28e3660"
      },
      "execution_count": null,
      "outputs": [
        {
          "output_type": "stream",
          "name": "stdout",
          "text": [
            "[5 1 1 1 7 7 7 7 3 3 3 3 3 1 1 1 1 5 5 5 5 1 1 1 1 1 1 1 1 1 2 2 2 2 2 6 6\n",
            " 6 6 0 0 0 0 1 1 1 1 1 8 8 8 8 1 1 1 1 7 7 7 7 3 3 3 3 3 5 1 1 1 5 5 5 5 5\n",
            " 1 1 1 1 5 1 1 1 2 2 2 2 2 6 6 6 6 0 0 0 0 1 1 1 1 1 8 8 8 8 1 1 1 1 1 7 7\n",
            " 7 7 3 3 3 3 1 1 1 1 5 5 5 5 5 5 1 1 1 1 1 1 1 1 2 2 2 2 6 6 6 6 0 0 0 0 0\n",
            " 1 1 1 1 8 8 8 8 1 4 4 4 4 4 7 7 7 3 3 3 3 1 1 1 1 1 5 5 5 5 1 1 1 1 1 1 1\n",
            " 1 1 2 2 2 2 6 6 6 6 0 0 0 0 0 5 1 1 1 8 8 8 8 8 1 1 1 1 7 7 7 7 3 3 3 3 1\n",
            " 1 1 1 1 5 5 5 5 1 1 1 1 1 1 1 1 1 2 2 2 2 6 6 6 6 6 0 0 0 0 1 1 1 1 8 8 8\n",
            " 8 8 1 1 1 1 7 7 7 7 3 3 3 3 3 1 1 1 1 5 5 5 5 1 1 1 1 1 1 1 1 1 2 2 2 2 6\n",
            " 6 6 6 6 0 0]\n"
          ]
        }
      ]
    },
    {
      "cell_type": "markdown",
      "source": [
        "ALGORITMO DE CLASIFICACIÓN"
      ],
      "metadata": {
        "id": "q8-h7ZwvaEBE"
      }
    },
    {
      "cell_type": "code",
      "source": [
        "from sklearn.model_selection import train_test_split"
      ],
      "metadata": {
        "id": "VFXReLiNaFKW"
      },
      "execution_count": null,
      "outputs": []
    },
    {
      "cell_type": "code",
      "source": [
        "datos_Bd_variables = Bd"
      ],
      "metadata": {
        "id": "uy0RPbBaaLr-"
      },
      "execution_count": null,
      "outputs": []
    },
    {
      "cell_type": "code",
      "source": [
        "X_entrenamiento, X_prueba, y_entrenamiento, y_prueba = train_test_split(datos_Bd_variables, clases, random_state=1)"
      ],
      "metadata": {
        "id": "ZwC2qJjpaPLf"
      },
      "execution_count": null,
      "outputs": []
    },
    {
      "cell_type": "code",
      "source": [
        "print(\"Tamaño de los datos de entrenamiento = \", X_entrenamiento.shape)\n",
        "print(\"Tamaño de los datos de prueba = \", X_prueba.shape)\n",
        "print(\"Tamaño del vector de clases de entrenamiento = \" , y_entrenamiento.shape)\n",
        "print(\"Tamaño del vector de clases de prueba = \", y_prueba.shape)"
      ],
      "metadata": {
        "colab": {
          "base_uri": "https://localhost:8080/"
        },
        "id": "3gR7TT89aTle",
        "outputId": "9b9e9371-c95e-49b6-e8aa-ab7318b36ff1"
      },
      "execution_count": null,
      "outputs": [
        {
          "output_type": "stream",
          "name": "stdout",
          "text": [
            "Tamaño de los datos de entrenamiento =  (226, 57)\n",
            "Tamaño de los datos de prueba =  (76, 57)\n",
            "Tamaño del vector de clases de entrenamiento =  (226,)\n",
            "Tamaño del vector de clases de prueba =  (76,)\n"
          ]
        }
      ]
    },
    {
      "cell_type": "code",
      "source": [
        "# Cargar librerias\n",
        "from sklearn.ensemble import AdaBoostClassifier\n",
        "# Importar Clasificador de Vector de Soporte\n",
        "from sklearn.svm import SVC\n",
        "# Importar métricas scikit-learn para calculos exactos\n",
        "from sklearn import metrics"
      ],
      "metadata": {
        "id": "ZWz23OuFaXYt"
      },
      "execution_count": null,
      "outputs": []
    },
    {
      "cell_type": "code",
      "source": [
        "# Crear clasificador base\n",
        "svc = SVC(probability=True, kernel='linear')\n",
        "\n",
        "# Crear objeto de clasificación AdaBoost\n",
        "abc = AdaBoostClassifier(n_estimators=2500,learning_rate=0.001)\n",
        "\n",
        "# Clasificador de entrenamiento AdaBoost\n",
        "model = abc.fit(X_entrenamiento, y_entrenamiento)\n",
        "\n",
        "# Predicción de la respuesta para la bd de prueba\n",
        "y_pred = model.predict(X_prueba)\n",
        "\n",
        "# Exactitud del modelo, qué tan correcto es el clasificador?\n",
        "print(\"Accuracy:\",metrics.accuracy_score(y_prueba, y_pred))"
      ],
      "metadata": {
        "colab": {
          "base_uri": "https://localhost:8080/"
        },
        "id": "BzWtM4SDaamw",
        "outputId": "b7858853-9ac9-4a8d-812b-789a97fc611b"
      },
      "execution_count": null,
      "outputs": [
        {
          "output_type": "stream",
          "name": "stdout",
          "text": [
            "Accuracy: 0.9473684210526315\n"
          ]
        }
      ]
    }
  ]
}